{
 "cells": [
  {
   "cell_type": "markdown",
   "metadata": {},
   "source": [
    "# Data Cleaning"
   ]
  },
  {
   "cell_type": "code",
   "execution_count": 42,
   "metadata": {
    "ExecuteTime": {
     "end_time": "2019-09-29T06:07:49.200046Z",
     "start_time": "2019-09-29T06:07:49.195058Z"
    }
   },
   "outputs": [],
   "source": [
    "# Importar librerias\n",
    "import numpy as np\n",
    "import pandas as pd\n",
    "import matplotlib.pyplot as plt"
   ]
  },
  {
   "cell_type": "markdown",
   "metadata": {},
   "source": [
    "## Leer la base de datos"
   ]
  },
  {
   "cell_type": "code",
   "execution_count": 133,
   "metadata": {
    "ExecuteTime": {
     "end_time": "2019-09-29T07:44:55.897075Z",
     "start_time": "2019-09-29T07:44:55.808171Z"
    }
   },
   "outputs": [
    {
     "data": {
      "text/html": [
       "<div>\n",
       "<style scoped>\n",
       "    .dataframe tbody tr th:only-of-type {\n",
       "        vertical-align: middle;\n",
       "    }\n",
       "\n",
       "    .dataframe tbody tr th {\n",
       "        vertical-align: top;\n",
       "    }\n",
       "\n",
       "    .dataframe thead th {\n",
       "        text-align: right;\n",
       "    }\n",
       "</style>\n",
       "<table border=\"1\" class=\"dataframe\">\n",
       "  <thead>\n",
       "    <tr style=\"text-align: right;\">\n",
       "      <th></th>\n",
       "      <th>DESCRIPCION</th>\n",
       "      <th>1984</th>\n",
       "      <th>1985</th>\n",
       "      <th>1986</th>\n",
       "      <th>1987</th>\n",
       "      <th>1988</th>\n",
       "      <th>1989</th>\n",
       "      <th>1990</th>\n",
       "      <th>1991</th>\n",
       "      <th>1992</th>\n",
       "      <th>...</th>\n",
       "      <th>2009</th>\n",
       "      <th>2010</th>\n",
       "      <th>2011</th>\n",
       "      <th>2012</th>\n",
       "      <th>2013</th>\n",
       "      <th>2014</th>\n",
       "      <th>2015</th>\n",
       "      <th>2016</th>\n",
       "      <th>2017</th>\n",
       "      <th>2018</th>\n",
       "    </tr>\n",
       "  </thead>\n",
       "  <tbody>\n",
       "    <tr>\n",
       "      <th>0</th>\n",
       "      <td>INGRESOS DE OPERACIÓN</td>\n",
       "      <td>40422</td>\n",
       "      <td>42294</td>\n",
       "      <td>43649</td>\n",
       "      <td>44917</td>\n",
       "      <td>48053</td>\n",
       "      <td>49316</td>\n",
       "      <td>49704</td>\n",
       "      <td>46944</td>\n",
       "      <td>50894</td>\n",
       "      <td>...</td>\n",
       "      <td>95146</td>\n",
       "      <td>98338</td>\n",
       "      <td>103861</td>\n",
       "      <td>115540</td>\n",
       "      <td>121673</td>\n",
       "      <td>138648</td>\n",
       "      <td>132643</td>\n",
       "      <td>134433</td>\n",
       "      <td>141354</td>\n",
       "      <td>138513</td>\n",
       "    </tr>\n",
       "    <tr>\n",
       "      <th>1</th>\n",
       "      <td>Electricidad</td>\n",
       "      <td>7681</td>\n",
       "      <td>6191</td>\n",
       "      <td>8500</td>\n",
       "      <td>9600</td>\n",
       "      <td>9000</td>\n",
       "      <td>9700</td>\n",
       "      <td>10400</td>\n",
       "      <td>10800</td>\n",
       "      <td>11400</td>\n",
       "      <td>...</td>\n",
       "      <td>31446</td>\n",
       "      <td>32433</td>\n",
       "      <td>30339</td>\n",
       "      <td>35793</td>\n",
       "      <td>41093</td>\n",
       "      <td>40490</td>\n",
       "      <td>48389</td>\n",
       "      <td>34831</td>\n",
       "      <td>37532</td>\n",
       "      <td>46849</td>\n",
       "    </tr>\n",
       "    <tr>\n",
       "      <th>2</th>\n",
       "      <td>Químicos</td>\n",
       "      <td>363</td>\n",
       "      <td>668</td>\n",
       "      <td>796</td>\n",
       "      <td>973</td>\n",
       "      <td>1070</td>\n",
       "      <td>1198</td>\n",
       "      <td>1190</td>\n",
       "      <td>1364</td>\n",
       "      <td>1231</td>\n",
       "      <td>...</td>\n",
       "      <td>4477</td>\n",
       "      <td>4183</td>\n",
       "      <td>3035</td>\n",
       "      <td>5065</td>\n",
       "      <td>6709</td>\n",
       "      <td>6276</td>\n",
       "      <td>5406</td>\n",
       "      <td>6999</td>\n",
       "      <td>5383</td>\n",
       "      <td>6653</td>\n",
       "    </tr>\n",
       "    <tr>\n",
       "      <th>3</th>\n",
       "      <td>Personal</td>\n",
       "      <td>9860</td>\n",
       "      <td>10100</td>\n",
       "      <td>10900</td>\n",
       "      <td>12400</td>\n",
       "      <td>10300</td>\n",
       "      <td>10450</td>\n",
       "      <td>10787</td>\n",
       "      <td>11665</td>\n",
       "      <td>11604</td>\n",
       "      <td>...</td>\n",
       "      <td>19226</td>\n",
       "      <td>19684</td>\n",
       "      <td>23096</td>\n",
       "      <td>26008</td>\n",
       "      <td>34822</td>\n",
       "      <td>33656</td>\n",
       "      <td>34538</td>\n",
       "      <td>52027</td>\n",
       "      <td>46371</td>\n",
       "      <td>45994</td>\n",
       "    </tr>\n",
       "    <tr>\n",
       "      <th>4</th>\n",
       "      <td>Compra de Agua</td>\n",
       "      <td>9308</td>\n",
       "      <td>10198</td>\n",
       "      <td>8083</td>\n",
       "      <td>9024</td>\n",
       "      <td>9531</td>\n",
       "      <td>9475</td>\n",
       "      <td>9816</td>\n",
       "      <td>10335</td>\n",
       "      <td>10845</td>\n",
       "      <td>...</td>\n",
       "      <td>31041</td>\n",
       "      <td>34793</td>\n",
       "      <td>36292</td>\n",
       "      <td>37599</td>\n",
       "      <td>40888</td>\n",
       "      <td>41014</td>\n",
       "      <td>41760</td>\n",
       "      <td>40073</td>\n",
       "      <td>27853</td>\n",
       "      <td>50313</td>\n",
       "    </tr>\n",
       "    <tr>\n",
       "      <th>5</th>\n",
       "      <td>Depreciación de Activos Existentes</td>\n",
       "      <td>7528</td>\n",
       "      <td>7841</td>\n",
       "      <td>7879</td>\n",
       "      <td>8096</td>\n",
       "      <td>9154</td>\n",
       "      <td>9280</td>\n",
       "      <td>9295</td>\n",
       "      <td>9517</td>\n",
       "      <td>9655</td>\n",
       "      <td>...</td>\n",
       "      <td>15604</td>\n",
       "      <td>16992</td>\n",
       "      <td>17196</td>\n",
       "      <td>17935</td>\n",
       "      <td>18775</td>\n",
       "      <td>20115</td>\n",
       "      <td>19488</td>\n",
       "      <td>19174</td>\n",
       "      <td>21696</td>\n",
       "      <td>21586</td>\n",
       "    </tr>\n",
       "    <tr>\n",
       "      <th>6</th>\n",
       "      <td>Otros Gastos Generales</td>\n",
       "      <td>5188</td>\n",
       "      <td>9381</td>\n",
       "      <td>5988</td>\n",
       "      <td>5773</td>\n",
       "      <td>7062</td>\n",
       "      <td>5602</td>\n",
       "      <td>5252</td>\n",
       "      <td>5784</td>\n",
       "      <td>5488</td>\n",
       "      <td>...</td>\n",
       "      <td>16864</td>\n",
       "      <td>21261</td>\n",
       "      <td>21284</td>\n",
       "      <td>24691</td>\n",
       "      <td>32518</td>\n",
       "      <td>39460</td>\n",
       "      <td>43317</td>\n",
       "      <td>48635</td>\n",
       "      <td>37602</td>\n",
       "      <td>47655</td>\n",
       "    </tr>\n",
       "    <tr>\n",
       "      <th>7</th>\n",
       "      <td>TOTAL GASTOS OPERATIVOS</td>\n",
       "      <td>39928</td>\n",
       "      <td>44379</td>\n",
       "      <td>42146</td>\n",
       "      <td>45866</td>\n",
       "      <td>46117</td>\n",
       "      <td>45705</td>\n",
       "      <td>46740</td>\n",
       "      <td>49465</td>\n",
       "      <td>50223</td>\n",
       "      <td>...</td>\n",
       "      <td>118658</td>\n",
       "      <td>129346</td>\n",
       "      <td>131242</td>\n",
       "      <td>147091</td>\n",
       "      <td>174805</td>\n",
       "      <td>181011</td>\n",
       "      <td>192898</td>\n",
       "      <td>201739</td>\n",
       "      <td>176437</td>\n",
       "      <td>219050</td>\n",
       "    </tr>\n",
       "    <tr>\n",
       "      <th>8</th>\n",
       "      <td>DEFICIT O SUPERAVIT EN OPERACIÓN</td>\n",
       "      <td>494</td>\n",
       "      <td>-2085</td>\n",
       "      <td>1503</td>\n",
       "      <td>-949</td>\n",
       "      <td>1936</td>\n",
       "      <td>3611</td>\n",
       "      <td>2964</td>\n",
       "      <td>-2521</td>\n",
       "      <td>671</td>\n",
       "      <td>...</td>\n",
       "      <td>-23512</td>\n",
       "      <td>-31008</td>\n",
       "      <td>-27381</td>\n",
       "      <td>-31551</td>\n",
       "      <td>-53132</td>\n",
       "      <td>-42363</td>\n",
       "      <td>-60255</td>\n",
       "      <td>-67306</td>\n",
       "      <td>-35083</td>\n",
       "      <td>-80537</td>\n",
       "    </tr>\n",
       "  </tbody>\n",
       "</table>\n",
       "<p>9 rows × 36 columns</p>\n",
       "</div>"
      ],
      "text/plain": [
       "                          DESCRIPCION   1984   1985   1986   1987   1988  \\\n",
       "0               INGRESOS DE OPERACIÓN  40422  42294  43649  44917  48053   \n",
       "1                        Electricidad   7681   6191   8500   9600   9000   \n",
       "2                            Químicos    363    668    796    973   1070   \n",
       "3                            Personal   9860  10100  10900  12400  10300   \n",
       "4                      Compra de Agua   9308  10198   8083   9024   9531   \n",
       "5  Depreciación de Activos Existentes   7528   7841   7879   8096   9154   \n",
       "6              Otros Gastos Generales   5188   9381   5988   5773   7062   \n",
       "7             TOTAL GASTOS OPERATIVOS  39928  44379  42146  45866  46117   \n",
       "8    DEFICIT O SUPERAVIT EN OPERACIÓN    494  -2085   1503   -949   1936   \n",
       "\n",
       "    1989   1990   1991   1992  ...    2009    2010    2011    2012    2013  \\\n",
       "0  49316  49704  46944  50894  ...   95146   98338  103861  115540  121673   \n",
       "1   9700  10400  10800  11400  ...   31446   32433   30339   35793   41093   \n",
       "2   1198   1190   1364   1231  ...    4477    4183    3035    5065    6709   \n",
       "3  10450  10787  11665  11604  ...   19226   19684   23096   26008   34822   \n",
       "4   9475   9816  10335  10845  ...   31041   34793   36292   37599   40888   \n",
       "5   9280   9295   9517   9655  ...   15604   16992   17196   17935   18775   \n",
       "6   5602   5252   5784   5488  ...   16864   21261   21284   24691   32518   \n",
       "7  45705  46740  49465  50223  ...  118658  129346  131242  147091  174805   \n",
       "8   3611   2964  -2521    671  ...  -23512  -31008  -27381  -31551  -53132   \n",
       "\n",
       "     2014    2015    2016    2017    2018  \n",
       "0  138648  132643  134433  141354  138513  \n",
       "1   40490   48389   34831   37532   46849  \n",
       "2    6276    5406    6999    5383    6653  \n",
       "3   33656   34538   52027   46371   45994  \n",
       "4   41014   41760   40073   27853   50313  \n",
       "5   20115   19488   19174   21696   21586  \n",
       "6   39460   43317   48635   37602   47655  \n",
       "7  181011  192898  201739  176437  219050  \n",
       "8  -42363  -60255  -67306  -35083  -80537  \n",
       "\n",
       "[9 rows x 36 columns]"
      ]
     },
     "execution_count": 133,
     "metadata": {},
     "output_type": "execute_result"
    }
   ],
   "source": [
    "df = pd.read_excel('IDAAN/Ingresos_gastos.xlsx')\n",
    "df.head(60)"
   ]
  },
  {
   "cell_type": "code",
   "execution_count": 182,
   "metadata": {
    "ExecuteTime": {
     "end_time": "2019-09-29T08:21:26.982010Z",
     "start_time": "2019-09-29T08:21:26.964669Z"
    },
    "scrolled": false
   },
   "outputs": [],
   "source": [
    "df_idaan = df"
   ]
  },
  {
   "cell_type": "markdown",
   "metadata": {},
   "source": [
    "## Eliminar filas que no necesito"
   ]
  },
  {
   "cell_type": "code",
   "execution_count": 197,
   "metadata": {
    "ExecuteTime": {
     "end_time": "2019-09-29T08:26:52.063999Z",
     "start_time": "2019-09-29T08:26:52.029412Z"
    },
    "scrolled": true
   },
   "outputs": [
    {
     "data": {
      "text/html": [
       "<div>\n",
       "<style scoped>\n",
       "    .dataframe tbody tr th:only-of-type {\n",
       "        vertical-align: middle;\n",
       "    }\n",
       "\n",
       "    .dataframe tbody tr th {\n",
       "        vertical-align: top;\n",
       "    }\n",
       "\n",
       "    .dataframe thead th {\n",
       "        text-align: right;\n",
       "    }\n",
       "</style>\n",
       "<table border=\"1\" class=\"dataframe\">\n",
       "  <thead>\n",
       "    <tr style=\"text-align: right;\">\n",
       "      <th></th>\n",
       "      <th>DESCRIPCION</th>\n",
       "      <th>1984</th>\n",
       "      <th>1985</th>\n",
       "      <th>1986</th>\n",
       "      <th>1987</th>\n",
       "      <th>1988</th>\n",
       "      <th>1989</th>\n",
       "      <th>1990</th>\n",
       "      <th>1991</th>\n",
       "      <th>1992</th>\n",
       "      <th>...</th>\n",
       "      <th>2009</th>\n",
       "      <th>2010</th>\n",
       "      <th>2011</th>\n",
       "      <th>2012</th>\n",
       "      <th>2013</th>\n",
       "      <th>2014</th>\n",
       "      <th>2015</th>\n",
       "      <th>2016</th>\n",
       "      <th>2017</th>\n",
       "      <th>2018</th>\n",
       "    </tr>\n",
       "  </thead>\n",
       "  <tbody>\n",
       "    <tr>\n",
       "      <th>0</th>\n",
       "      <td>INGRESOS DE OPERACIÓN</td>\n",
       "      <td>40422</td>\n",
       "      <td>42294</td>\n",
       "      <td>43649</td>\n",
       "      <td>44917</td>\n",
       "      <td>48053</td>\n",
       "      <td>49316</td>\n",
       "      <td>49704</td>\n",
       "      <td>46944</td>\n",
       "      <td>50894</td>\n",
       "      <td>...</td>\n",
       "      <td>95146</td>\n",
       "      <td>98338</td>\n",
       "      <td>103861</td>\n",
       "      <td>115540</td>\n",
       "      <td>121673</td>\n",
       "      <td>138648</td>\n",
       "      <td>132643</td>\n",
       "      <td>134433</td>\n",
       "      <td>141354</td>\n",
       "      <td>138513</td>\n",
       "    </tr>\n",
       "    <tr>\n",
       "      <th>7</th>\n",
       "      <td>TOTAL GASTOS OPERATIVOS</td>\n",
       "      <td>39928</td>\n",
       "      <td>44379</td>\n",
       "      <td>42146</td>\n",
       "      <td>45866</td>\n",
       "      <td>46117</td>\n",
       "      <td>45705</td>\n",
       "      <td>46740</td>\n",
       "      <td>49465</td>\n",
       "      <td>50223</td>\n",
       "      <td>...</td>\n",
       "      <td>118658</td>\n",
       "      <td>129346</td>\n",
       "      <td>131242</td>\n",
       "      <td>147091</td>\n",
       "      <td>174805</td>\n",
       "      <td>181011</td>\n",
       "      <td>192898</td>\n",
       "      <td>201739</td>\n",
       "      <td>176437</td>\n",
       "      <td>219050</td>\n",
       "    </tr>\n",
       "    <tr>\n",
       "      <th>8</th>\n",
       "      <td>DEFICIT O SUPERAVIT EN OPERACIÓN</td>\n",
       "      <td>494</td>\n",
       "      <td>-2085</td>\n",
       "      <td>1503</td>\n",
       "      <td>-949</td>\n",
       "      <td>1936</td>\n",
       "      <td>3611</td>\n",
       "      <td>2964</td>\n",
       "      <td>-2521</td>\n",
       "      <td>671</td>\n",
       "      <td>...</td>\n",
       "      <td>-23512</td>\n",
       "      <td>-31008</td>\n",
       "      <td>-27381</td>\n",
       "      <td>-31551</td>\n",
       "      <td>-53132</td>\n",
       "      <td>-42363</td>\n",
       "      <td>-60255</td>\n",
       "      <td>-67306</td>\n",
       "      <td>-35083</td>\n",
       "      <td>-80537</td>\n",
       "    </tr>\n",
       "  </tbody>\n",
       "</table>\n",
       "<p>3 rows × 36 columns</p>\n",
       "</div>"
      ],
      "text/plain": [
       "                        DESCRIPCION   1984   1985   1986   1987   1988   1989  \\\n",
       "0             INGRESOS DE OPERACIÓN  40422  42294  43649  44917  48053  49316   \n",
       "7           TOTAL GASTOS OPERATIVOS  39928  44379  42146  45866  46117  45705   \n",
       "8  DEFICIT O SUPERAVIT EN OPERACIÓN    494  -2085   1503   -949   1936   3611   \n",
       "\n",
       "    1990   1991   1992  ...    2009    2010    2011    2012    2013    2014  \\\n",
       "0  49704  46944  50894  ...   95146   98338  103861  115540  121673  138648   \n",
       "7  46740  49465  50223  ...  118658  129346  131242  147091  174805  181011   \n",
       "8   2964  -2521    671  ...  -23512  -31008  -27381  -31551  -53132  -42363   \n",
       "\n",
       "     2015    2016    2017    2018  \n",
       "0  132643  134433  141354  138513  \n",
       "7  192898  201739  176437  219050  \n",
       "8  -60255  -67306  -35083  -80537  \n",
       "\n",
       "[3 rows x 36 columns]"
      ]
     },
     "execution_count": 197,
     "metadata": {},
     "output_type": "execute_result"
    }
   ],
   "source": [
    "df_idaan_pro = df_idaan.drop(df.index[[1,6,2,3,4,5]])\n",
    "df_idaan_pro\n"
   ]
  },
  {
   "cell_type": "code",
   "execution_count": 198,
   "metadata": {
    "ExecuteTime": {
     "end_time": "2019-09-29T08:26:52.377494Z",
     "start_time": "2019-09-29T08:26:52.367309Z"
    }
   },
   "outputs": [],
   "source": [
    "df_idaan_pro = df_idaan_pro.astype('str')"
   ]
  },
  {
   "cell_type": "code",
   "execution_count": 199,
   "metadata": {
    "ExecuteTime": {
     "end_time": "2019-09-29T08:26:52.650906Z",
     "start_time": "2019-09-29T08:26:52.640316Z"
    },
    "scrolled": true
   },
   "outputs": [
    {
     "data": {
      "text/plain": [
       "DESCRIPCION    object\n",
       "1984           object\n",
       "1985           object\n",
       "1986           object\n",
       "1987           object\n",
       "1988           object\n",
       "1989           object\n",
       "1990           object\n",
       "1991           object\n",
       "1992           object\n",
       "1993           object\n",
       "1994           object\n",
       "1995           object\n",
       "1996           object\n",
       "1997           object\n",
       "1998           object\n",
       "1999           object\n",
       "2000           object\n",
       "2001           object\n",
       "2002           object\n",
       "2003           object\n",
       "2004           object\n",
       "2005           object\n",
       "2006           object\n",
       "2007           object\n",
       "2008           object\n",
       "2009           object\n",
       "2010           object\n",
       "2011           object\n",
       "2012           object\n",
       "2013           object\n",
       "2014           object\n",
       "2015           object\n",
       "2016           object\n",
       "2017           object\n",
       "2018           object\n",
       "dtype: object"
      ]
     },
     "execution_count": 199,
     "metadata": {},
     "output_type": "execute_result"
    }
   ],
   "source": [
    "df_idaan_pro.dtypes"
   ]
  },
  {
   "cell_type": "code",
   "execution_count": null,
   "metadata": {},
   "outputs": [],
   "source": []
  },
  {
   "cell_type": "markdown",
   "metadata": {
    "ExecuteTime": {
     "end_time": "2019-09-29T08:26:52.925520Z",
     "start_time": "2019-09-29T08:26:52.905094Z"
    }
   },
   "source": [
    "df_idaan_pro.to_csv('idaan_3_rows.csv')"
   ]
  },
  {
   "cell_type": "markdown",
   "metadata": {},
   "source": [
    "# Data Visualization"
   ]
  },
  {
   "cell_type": "code",
   "execution_count": 201,
   "metadata": {
    "ExecuteTime": {
     "end_time": "2019-09-29T08:26:53.818283Z",
     "start_time": "2019-09-29T08:26:53.813031Z"
    }
   },
   "outputs": [],
   "source": [
    "import plotly.express as px\n",
    "import plotly.graph_objects as go"
   ]
  },
  {
   "cell_type": "markdown",
   "metadata": {},
   "source": []
  },
  {
   "cell_type": "code",
   "execution_count": 188,
   "metadata": {
    "ExecuteTime": {
     "end_time": "2019-09-29T08:21:32.119805Z",
     "start_time": "2019-09-29T08:21:31.838160Z"
    }
   },
   "outputs": [
    {
     "data": {
      "application/vnd.plotly.v1+json": {
       "config": {
        "plotlyServerURL": "https://plot.ly"
       },
       "data": [
        {
         "marker": {
          "color": "rgb(55, 83, 109)"
         },
         "type": "bar",
         "x": [
          "INGRESOS DE OPERACIÓN",
          "TOTAL GASTOS OPERATIVOS",
          "DEFICIT O SUPERAVIT EN OPERACIÓN"
         ],
         "y": [
          "138513",
          "219050",
          "-80537"
         ]
        }
       ],
       "layout": {
        "barmode": "group",
        "template": {
         "data": {
          "bar": [
           {
            "error_x": {
             "color": "#2a3f5f"
            },
            "error_y": {
             "color": "#2a3f5f"
            },
            "marker": {
             "line": {
              "color": "#E5ECF6",
              "width": 0.5
             }
            },
            "type": "bar"
           }
          ],
          "barpolar": [
           {
            "marker": {
             "line": {
              "color": "#E5ECF6",
              "width": 0.5
             }
            },
            "type": "barpolar"
           }
          ],
          "carpet": [
           {
            "aaxis": {
             "endlinecolor": "#2a3f5f",
             "gridcolor": "white",
             "linecolor": "white",
             "minorgridcolor": "white",
             "startlinecolor": "#2a3f5f"
            },
            "baxis": {
             "endlinecolor": "#2a3f5f",
             "gridcolor": "white",
             "linecolor": "white",
             "minorgridcolor": "white",
             "startlinecolor": "#2a3f5f"
            },
            "type": "carpet"
           }
          ],
          "choropleth": [
           {
            "colorbar": {
             "outlinewidth": 0,
             "ticks": ""
            },
            "type": "choropleth"
           }
          ],
          "contour": [
           {
            "colorbar": {
             "outlinewidth": 0,
             "ticks": ""
            },
            "colorscale": [
             [
              0,
              "#0d0887"
             ],
             [
              0.1111111111111111,
              "#46039f"
             ],
             [
              0.2222222222222222,
              "#7201a8"
             ],
             [
              0.3333333333333333,
              "#9c179e"
             ],
             [
              0.4444444444444444,
              "#bd3786"
             ],
             [
              0.5555555555555556,
              "#d8576b"
             ],
             [
              0.6666666666666666,
              "#ed7953"
             ],
             [
              0.7777777777777778,
              "#fb9f3a"
             ],
             [
              0.8888888888888888,
              "#fdca26"
             ],
             [
              1,
              "#f0f921"
             ]
            ],
            "type": "contour"
           }
          ],
          "contourcarpet": [
           {
            "colorbar": {
             "outlinewidth": 0,
             "ticks": ""
            },
            "type": "contourcarpet"
           }
          ],
          "heatmap": [
           {
            "colorbar": {
             "outlinewidth": 0,
             "ticks": ""
            },
            "colorscale": [
             [
              0,
              "#0d0887"
             ],
             [
              0.1111111111111111,
              "#46039f"
             ],
             [
              0.2222222222222222,
              "#7201a8"
             ],
             [
              0.3333333333333333,
              "#9c179e"
             ],
             [
              0.4444444444444444,
              "#bd3786"
             ],
             [
              0.5555555555555556,
              "#d8576b"
             ],
             [
              0.6666666666666666,
              "#ed7953"
             ],
             [
              0.7777777777777778,
              "#fb9f3a"
             ],
             [
              0.8888888888888888,
              "#fdca26"
             ],
             [
              1,
              "#f0f921"
             ]
            ],
            "type": "heatmap"
           }
          ],
          "heatmapgl": [
           {
            "colorbar": {
             "outlinewidth": 0,
             "ticks": ""
            },
            "colorscale": [
             [
              0,
              "#0d0887"
             ],
             [
              0.1111111111111111,
              "#46039f"
             ],
             [
              0.2222222222222222,
              "#7201a8"
             ],
             [
              0.3333333333333333,
              "#9c179e"
             ],
             [
              0.4444444444444444,
              "#bd3786"
             ],
             [
              0.5555555555555556,
              "#d8576b"
             ],
             [
              0.6666666666666666,
              "#ed7953"
             ],
             [
              0.7777777777777778,
              "#fb9f3a"
             ],
             [
              0.8888888888888888,
              "#fdca26"
             ],
             [
              1,
              "#f0f921"
             ]
            ],
            "type": "heatmapgl"
           }
          ],
          "histogram": [
           {
            "marker": {
             "colorbar": {
              "outlinewidth": 0,
              "ticks": ""
             }
            },
            "type": "histogram"
           }
          ],
          "histogram2d": [
           {
            "colorbar": {
             "outlinewidth": 0,
             "ticks": ""
            },
            "colorscale": [
             [
              0,
              "#0d0887"
             ],
             [
              0.1111111111111111,
              "#46039f"
             ],
             [
              0.2222222222222222,
              "#7201a8"
             ],
             [
              0.3333333333333333,
              "#9c179e"
             ],
             [
              0.4444444444444444,
              "#bd3786"
             ],
             [
              0.5555555555555556,
              "#d8576b"
             ],
             [
              0.6666666666666666,
              "#ed7953"
             ],
             [
              0.7777777777777778,
              "#fb9f3a"
             ],
             [
              0.8888888888888888,
              "#fdca26"
             ],
             [
              1,
              "#f0f921"
             ]
            ],
            "type": "histogram2d"
           }
          ],
          "histogram2dcontour": [
           {
            "colorbar": {
             "outlinewidth": 0,
             "ticks": ""
            },
            "colorscale": [
             [
              0,
              "#0d0887"
             ],
             [
              0.1111111111111111,
              "#46039f"
             ],
             [
              0.2222222222222222,
              "#7201a8"
             ],
             [
              0.3333333333333333,
              "#9c179e"
             ],
             [
              0.4444444444444444,
              "#bd3786"
             ],
             [
              0.5555555555555556,
              "#d8576b"
             ],
             [
              0.6666666666666666,
              "#ed7953"
             ],
             [
              0.7777777777777778,
              "#fb9f3a"
             ],
             [
              0.8888888888888888,
              "#fdca26"
             ],
             [
              1,
              "#f0f921"
             ]
            ],
            "type": "histogram2dcontour"
           }
          ],
          "mesh3d": [
           {
            "colorbar": {
             "outlinewidth": 0,
             "ticks": ""
            },
            "type": "mesh3d"
           }
          ],
          "parcoords": [
           {
            "line": {
             "colorbar": {
              "outlinewidth": 0,
              "ticks": ""
             }
            },
            "type": "parcoords"
           }
          ],
          "scatter": [
           {
            "marker": {
             "colorbar": {
              "outlinewidth": 0,
              "ticks": ""
             }
            },
            "type": "scatter"
           }
          ],
          "scatter3d": [
           {
            "line": {
             "colorbar": {
              "outlinewidth": 0,
              "ticks": ""
             }
            },
            "marker": {
             "colorbar": {
              "outlinewidth": 0,
              "ticks": ""
             }
            },
            "type": "scatter3d"
           }
          ],
          "scattercarpet": [
           {
            "marker": {
             "colorbar": {
              "outlinewidth": 0,
              "ticks": ""
             }
            },
            "type": "scattercarpet"
           }
          ],
          "scattergeo": [
           {
            "marker": {
             "colorbar": {
              "outlinewidth": 0,
              "ticks": ""
             }
            },
            "type": "scattergeo"
           }
          ],
          "scattergl": [
           {
            "marker": {
             "colorbar": {
              "outlinewidth": 0,
              "ticks": ""
             }
            },
            "type": "scattergl"
           }
          ],
          "scattermapbox": [
           {
            "marker": {
             "colorbar": {
              "outlinewidth": 0,
              "ticks": ""
             }
            },
            "type": "scattermapbox"
           }
          ],
          "scatterpolar": [
           {
            "marker": {
             "colorbar": {
              "outlinewidth": 0,
              "ticks": ""
             }
            },
            "type": "scatterpolar"
           }
          ],
          "scatterpolargl": [
           {
            "marker": {
             "colorbar": {
              "outlinewidth": 0,
              "ticks": ""
             }
            },
            "type": "scatterpolargl"
           }
          ],
          "scatterternary": [
           {
            "marker": {
             "colorbar": {
              "outlinewidth": 0,
              "ticks": ""
             }
            },
            "type": "scatterternary"
           }
          ],
          "surface": [
           {
            "colorbar": {
             "outlinewidth": 0,
             "ticks": ""
            },
            "colorscale": [
             [
              0,
              "#0d0887"
             ],
             [
              0.1111111111111111,
              "#46039f"
             ],
             [
              0.2222222222222222,
              "#7201a8"
             ],
             [
              0.3333333333333333,
              "#9c179e"
             ],
             [
              0.4444444444444444,
              "#bd3786"
             ],
             [
              0.5555555555555556,
              "#d8576b"
             ],
             [
              0.6666666666666666,
              "#ed7953"
             ],
             [
              0.7777777777777778,
              "#fb9f3a"
             ],
             [
              0.8888888888888888,
              "#fdca26"
             ],
             [
              1,
              "#f0f921"
             ]
            ],
            "type": "surface"
           }
          ],
          "table": [
           {
            "cells": {
             "fill": {
              "color": "#EBF0F8"
             },
             "line": {
              "color": "white"
             }
            },
            "header": {
             "fill": {
              "color": "#C8D4E3"
             },
             "line": {
              "color": "white"
             }
            },
            "type": "table"
           }
          ]
         },
         "layout": {
          "annotationdefaults": {
           "arrowcolor": "#2a3f5f",
           "arrowhead": 0,
           "arrowwidth": 1
          },
          "colorscale": {
           "diverging": [
            [
             0,
             "#8e0152"
            ],
            [
             0.1,
             "#c51b7d"
            ],
            [
             0.2,
             "#de77ae"
            ],
            [
             0.3,
             "#f1b6da"
            ],
            [
             0.4,
             "#fde0ef"
            ],
            [
             0.5,
             "#f7f7f7"
            ],
            [
             0.6,
             "#e6f5d0"
            ],
            [
             0.7,
             "#b8e186"
            ],
            [
             0.8,
             "#7fbc41"
            ],
            [
             0.9,
             "#4d9221"
            ],
            [
             1,
             "#276419"
            ]
           ],
           "sequential": [
            [
             0,
             "#0d0887"
            ],
            [
             0.1111111111111111,
             "#46039f"
            ],
            [
             0.2222222222222222,
             "#7201a8"
            ],
            [
             0.3333333333333333,
             "#9c179e"
            ],
            [
             0.4444444444444444,
             "#bd3786"
            ],
            [
             0.5555555555555556,
             "#d8576b"
            ],
            [
             0.6666666666666666,
             "#ed7953"
            ],
            [
             0.7777777777777778,
             "#fb9f3a"
            ],
            [
             0.8888888888888888,
             "#fdca26"
            ],
            [
             1,
             "#f0f921"
            ]
           ],
           "sequentialminus": [
            [
             0,
             "#0d0887"
            ],
            [
             0.1111111111111111,
             "#46039f"
            ],
            [
             0.2222222222222222,
             "#7201a8"
            ],
            [
             0.3333333333333333,
             "#9c179e"
            ],
            [
             0.4444444444444444,
             "#bd3786"
            ],
            [
             0.5555555555555556,
             "#d8576b"
            ],
            [
             0.6666666666666666,
             "#ed7953"
            ],
            [
             0.7777777777777778,
             "#fb9f3a"
            ],
            [
             0.8888888888888888,
             "#fdca26"
            ],
            [
             1,
             "#f0f921"
            ]
           ]
          },
          "colorway": [
           "#636efa",
           "#EF553B",
           "#00cc96",
           "#ab63fa",
           "#FFA15A",
           "#19d3f3",
           "#FF6692",
           "#B6E880",
           "#FF97FF",
           "#FECB52"
          ],
          "font": {
           "color": "#2a3f5f"
          },
          "geo": {
           "bgcolor": "white",
           "lakecolor": "white",
           "landcolor": "#E5ECF6",
           "showlakes": true,
           "showland": true,
           "subunitcolor": "white"
          },
          "hoverlabel": {
           "align": "left"
          },
          "hovermode": "closest",
          "mapbox": {
           "style": "light"
          },
          "paper_bgcolor": "white",
          "plot_bgcolor": "#E5ECF6",
          "polar": {
           "angularaxis": {
            "gridcolor": "white",
            "linecolor": "white",
            "ticks": ""
           },
           "bgcolor": "#E5ECF6",
           "radialaxis": {
            "gridcolor": "white",
            "linecolor": "white",
            "ticks": ""
           }
          },
          "scene": {
           "xaxis": {
            "backgroundcolor": "#E5ECF6",
            "gridcolor": "white",
            "gridwidth": 2,
            "linecolor": "white",
            "showbackground": true,
            "ticks": "",
            "zerolinecolor": "white"
           },
           "yaxis": {
            "backgroundcolor": "#E5ECF6",
            "gridcolor": "white",
            "gridwidth": 2,
            "linecolor": "white",
            "showbackground": true,
            "ticks": "",
            "zerolinecolor": "white"
           },
           "zaxis": {
            "backgroundcolor": "#E5ECF6",
            "gridcolor": "white",
            "gridwidth": 2,
            "linecolor": "white",
            "showbackground": true,
            "ticks": "",
            "zerolinecolor": "white"
           }
          },
          "shapedefaults": {
           "line": {
            "color": "#2a3f5f"
           }
          },
          "ternary": {
           "aaxis": {
            "gridcolor": "white",
            "linecolor": "white",
            "ticks": ""
           },
           "baxis": {
            "gridcolor": "white",
            "linecolor": "white",
            "ticks": ""
           },
           "bgcolor": "#E5ECF6",
           "caxis": {
            "gridcolor": "white",
            "linecolor": "white",
            "ticks": ""
           }
          },
          "title": {
           "x": 0.05
          },
          "xaxis": {
           "automargin": true,
           "gridcolor": "white",
           "linecolor": "white",
           "ticks": "",
           "zerolinecolor": "white",
           "zerolinewidth": 2
          },
          "yaxis": {
           "automargin": true,
           "gridcolor": "white",
           "linecolor": "white",
           "ticks": "",
           "zerolinecolor": "white",
           "zerolinewidth": 2
          }
         }
        },
        "title": {
         "text": "Análisis de dinero del IDAAAN en 2018"
        },
        "xaxis": {
         "tickfont": {
          "size": 14
         }
        },
        "yaxis": {
         "tickfont": {
          "size": 14
         },
         "title": {
          "font": {
           "size": 16
          },
          "text": "Dólares"
         }
        }
       }
      },
      "text/html": [
       "<div>\n",
       "        \n",
       "        \n",
       "            <div id=\"1def7203-4ee6-4911-9343-a149d850dadc\" class=\"plotly-graph-div\" style=\"height:525px; width:100%;\"></div>\n",
       "            <script type=\"text/javascript\">\n",
       "                require([\"plotly\"], function(Plotly) {\n",
       "                    window.PLOTLYENV=window.PLOTLYENV || {};\n",
       "                    \n",
       "                if (document.getElementById(\"1def7203-4ee6-4911-9343-a149d850dadc\")) {\n",
       "                    Plotly.newPlot(\n",
       "                        '1def7203-4ee6-4911-9343-a149d850dadc',\n",
       "                        [{\"marker\": {\"color\": \"rgb(55, 83, 109)\"}, \"type\": \"bar\", \"x\": [\"INGRESOS DE OPERACI\\u00d3N\", \"TOTAL GASTOS OPERATIVOS\", \"DEFICIT O SUPERAVIT EN OPERACI\\u00d3N\"], \"y\": [\"138513\", \"219050\", \"-80537\"]}],\n",
       "                        {\"barmode\": \"group\", \"template\": {\"data\": {\"bar\": [{\"error_x\": {\"color\": \"#2a3f5f\"}, \"error_y\": {\"color\": \"#2a3f5f\"}, \"marker\": {\"line\": {\"color\": \"#E5ECF6\", \"width\": 0.5}}, \"type\": \"bar\"}], \"barpolar\": [{\"marker\": {\"line\": {\"color\": \"#E5ECF6\", \"width\": 0.5}}, \"type\": \"barpolar\"}], \"carpet\": [{\"aaxis\": {\"endlinecolor\": \"#2a3f5f\", \"gridcolor\": \"white\", \"linecolor\": \"white\", \"minorgridcolor\": \"white\", \"startlinecolor\": \"#2a3f5f\"}, \"baxis\": {\"endlinecolor\": \"#2a3f5f\", \"gridcolor\": \"white\", \"linecolor\": \"white\", \"minorgridcolor\": \"white\", \"startlinecolor\": \"#2a3f5f\"}, \"type\": \"carpet\"}], \"choropleth\": [{\"colorbar\": {\"outlinewidth\": 0, \"ticks\": \"\"}, \"type\": \"choropleth\"}], \"contour\": [{\"colorbar\": {\"outlinewidth\": 0, \"ticks\": \"\"}, \"colorscale\": [[0.0, \"#0d0887\"], [0.1111111111111111, \"#46039f\"], [0.2222222222222222, \"#7201a8\"], [0.3333333333333333, \"#9c179e\"], [0.4444444444444444, \"#bd3786\"], [0.5555555555555556, \"#d8576b\"], [0.6666666666666666, \"#ed7953\"], [0.7777777777777778, \"#fb9f3a\"], [0.8888888888888888, \"#fdca26\"], [1.0, \"#f0f921\"]], \"type\": \"contour\"}], \"contourcarpet\": [{\"colorbar\": {\"outlinewidth\": 0, \"ticks\": \"\"}, \"type\": \"contourcarpet\"}], \"heatmap\": [{\"colorbar\": {\"outlinewidth\": 0, \"ticks\": \"\"}, \"colorscale\": [[0.0, \"#0d0887\"], [0.1111111111111111, \"#46039f\"], [0.2222222222222222, \"#7201a8\"], [0.3333333333333333, \"#9c179e\"], [0.4444444444444444, \"#bd3786\"], [0.5555555555555556, \"#d8576b\"], [0.6666666666666666, \"#ed7953\"], [0.7777777777777778, \"#fb9f3a\"], [0.8888888888888888, \"#fdca26\"], [1.0, \"#f0f921\"]], \"type\": \"heatmap\"}], \"heatmapgl\": [{\"colorbar\": {\"outlinewidth\": 0, \"ticks\": \"\"}, \"colorscale\": [[0.0, \"#0d0887\"], [0.1111111111111111, \"#46039f\"], [0.2222222222222222, \"#7201a8\"], [0.3333333333333333, \"#9c179e\"], [0.4444444444444444, \"#bd3786\"], [0.5555555555555556, \"#d8576b\"], [0.6666666666666666, \"#ed7953\"], [0.7777777777777778, \"#fb9f3a\"], [0.8888888888888888, \"#fdca26\"], [1.0, \"#f0f921\"]], \"type\": \"heatmapgl\"}], \"histogram\": [{\"marker\": {\"colorbar\": {\"outlinewidth\": 0, \"ticks\": \"\"}}, \"type\": \"histogram\"}], \"histogram2d\": [{\"colorbar\": {\"outlinewidth\": 0, \"ticks\": \"\"}, \"colorscale\": [[0.0, \"#0d0887\"], [0.1111111111111111, \"#46039f\"], [0.2222222222222222, \"#7201a8\"], [0.3333333333333333, \"#9c179e\"], [0.4444444444444444, \"#bd3786\"], [0.5555555555555556, \"#d8576b\"], [0.6666666666666666, \"#ed7953\"], [0.7777777777777778, \"#fb9f3a\"], [0.8888888888888888, \"#fdca26\"], [1.0, \"#f0f921\"]], \"type\": \"histogram2d\"}], \"histogram2dcontour\": [{\"colorbar\": {\"outlinewidth\": 0, \"ticks\": \"\"}, \"colorscale\": [[0.0, \"#0d0887\"], [0.1111111111111111, \"#46039f\"], [0.2222222222222222, \"#7201a8\"], [0.3333333333333333, \"#9c179e\"], [0.4444444444444444, \"#bd3786\"], [0.5555555555555556, \"#d8576b\"], [0.6666666666666666, \"#ed7953\"], [0.7777777777777778, \"#fb9f3a\"], [0.8888888888888888, \"#fdca26\"], [1.0, \"#f0f921\"]], \"type\": \"histogram2dcontour\"}], \"mesh3d\": [{\"colorbar\": {\"outlinewidth\": 0, \"ticks\": \"\"}, \"type\": \"mesh3d\"}], \"parcoords\": [{\"line\": {\"colorbar\": {\"outlinewidth\": 0, \"ticks\": \"\"}}, \"type\": \"parcoords\"}], \"scatter\": [{\"marker\": {\"colorbar\": {\"outlinewidth\": 0, \"ticks\": \"\"}}, \"type\": \"scatter\"}], \"scatter3d\": [{\"line\": {\"colorbar\": {\"outlinewidth\": 0, \"ticks\": \"\"}}, \"marker\": {\"colorbar\": {\"outlinewidth\": 0, \"ticks\": \"\"}}, \"type\": \"scatter3d\"}], \"scattercarpet\": [{\"marker\": {\"colorbar\": {\"outlinewidth\": 0, \"ticks\": \"\"}}, \"type\": \"scattercarpet\"}], \"scattergeo\": [{\"marker\": {\"colorbar\": {\"outlinewidth\": 0, \"ticks\": \"\"}}, \"type\": \"scattergeo\"}], \"scattergl\": [{\"marker\": {\"colorbar\": {\"outlinewidth\": 0, \"ticks\": \"\"}}, \"type\": \"scattergl\"}], \"scattermapbox\": [{\"marker\": {\"colorbar\": {\"outlinewidth\": 0, \"ticks\": \"\"}}, \"type\": \"scattermapbox\"}], \"scatterpolar\": [{\"marker\": {\"colorbar\": {\"outlinewidth\": 0, \"ticks\": \"\"}}, \"type\": \"scatterpolar\"}], \"scatterpolargl\": [{\"marker\": {\"colorbar\": {\"outlinewidth\": 0, \"ticks\": \"\"}}, \"type\": \"scatterpolargl\"}], \"scatterternary\": [{\"marker\": {\"colorbar\": {\"outlinewidth\": 0, \"ticks\": \"\"}}, \"type\": \"scatterternary\"}], \"surface\": [{\"colorbar\": {\"outlinewidth\": 0, \"ticks\": \"\"}, \"colorscale\": [[0.0, \"#0d0887\"], [0.1111111111111111, \"#46039f\"], [0.2222222222222222, \"#7201a8\"], [0.3333333333333333, \"#9c179e\"], [0.4444444444444444, \"#bd3786\"], [0.5555555555555556, \"#d8576b\"], [0.6666666666666666, \"#ed7953\"], [0.7777777777777778, \"#fb9f3a\"], [0.8888888888888888, \"#fdca26\"], [1.0, \"#f0f921\"]], \"type\": \"surface\"}], \"table\": [{\"cells\": {\"fill\": {\"color\": \"#EBF0F8\"}, \"line\": {\"color\": \"white\"}}, \"header\": {\"fill\": {\"color\": \"#C8D4E3\"}, \"line\": {\"color\": \"white\"}}, \"type\": \"table\"}]}, \"layout\": {\"annotationdefaults\": {\"arrowcolor\": \"#2a3f5f\", \"arrowhead\": 0, \"arrowwidth\": 1}, \"colorscale\": {\"diverging\": [[0, \"#8e0152\"], [0.1, \"#c51b7d\"], [0.2, \"#de77ae\"], [0.3, \"#f1b6da\"], [0.4, \"#fde0ef\"], [0.5, \"#f7f7f7\"], [0.6, \"#e6f5d0\"], [0.7, \"#b8e186\"], [0.8, \"#7fbc41\"], [0.9, \"#4d9221\"], [1, \"#276419\"]], \"sequential\": [[0.0, \"#0d0887\"], [0.1111111111111111, \"#46039f\"], [0.2222222222222222, \"#7201a8\"], [0.3333333333333333, \"#9c179e\"], [0.4444444444444444, \"#bd3786\"], [0.5555555555555556, \"#d8576b\"], [0.6666666666666666, \"#ed7953\"], [0.7777777777777778, \"#fb9f3a\"], [0.8888888888888888, \"#fdca26\"], [1.0, \"#f0f921\"]], \"sequentialminus\": [[0.0, \"#0d0887\"], [0.1111111111111111, \"#46039f\"], [0.2222222222222222, \"#7201a8\"], [0.3333333333333333, \"#9c179e\"], [0.4444444444444444, \"#bd3786\"], [0.5555555555555556, \"#d8576b\"], [0.6666666666666666, \"#ed7953\"], [0.7777777777777778, \"#fb9f3a\"], [0.8888888888888888, \"#fdca26\"], [1.0, \"#f0f921\"]]}, \"colorway\": [\"#636efa\", \"#EF553B\", \"#00cc96\", \"#ab63fa\", \"#FFA15A\", \"#19d3f3\", \"#FF6692\", \"#B6E880\", \"#FF97FF\", \"#FECB52\"], \"font\": {\"color\": \"#2a3f5f\"}, \"geo\": {\"bgcolor\": \"white\", \"lakecolor\": \"white\", \"landcolor\": \"#E5ECF6\", \"showlakes\": true, \"showland\": true, \"subunitcolor\": \"white\"}, \"hoverlabel\": {\"align\": \"left\"}, \"hovermode\": \"closest\", \"mapbox\": {\"style\": \"light\"}, \"paper_bgcolor\": \"white\", \"plot_bgcolor\": \"#E5ECF6\", \"polar\": {\"angularaxis\": {\"gridcolor\": \"white\", \"linecolor\": \"white\", \"ticks\": \"\"}, \"bgcolor\": \"#E5ECF6\", \"radialaxis\": {\"gridcolor\": \"white\", \"linecolor\": \"white\", \"ticks\": \"\"}}, \"scene\": {\"xaxis\": {\"backgroundcolor\": \"#E5ECF6\", \"gridcolor\": \"white\", \"gridwidth\": 2, \"linecolor\": \"white\", \"showbackground\": true, \"ticks\": \"\", \"zerolinecolor\": \"white\"}, \"yaxis\": {\"backgroundcolor\": \"#E5ECF6\", \"gridcolor\": \"white\", \"gridwidth\": 2, \"linecolor\": \"white\", \"showbackground\": true, \"ticks\": \"\", \"zerolinecolor\": \"white\"}, \"zaxis\": {\"backgroundcolor\": \"#E5ECF6\", \"gridcolor\": \"white\", \"gridwidth\": 2, \"linecolor\": \"white\", \"showbackground\": true, \"ticks\": \"\", \"zerolinecolor\": \"white\"}}, \"shapedefaults\": {\"line\": {\"color\": \"#2a3f5f\"}}, \"ternary\": {\"aaxis\": {\"gridcolor\": \"white\", \"linecolor\": \"white\", \"ticks\": \"\"}, \"baxis\": {\"gridcolor\": \"white\", \"linecolor\": \"white\", \"ticks\": \"\"}, \"bgcolor\": \"#E5ECF6\", \"caxis\": {\"gridcolor\": \"white\", \"linecolor\": \"white\", \"ticks\": \"\"}}, \"title\": {\"x\": 0.05}, \"xaxis\": {\"automargin\": true, \"gridcolor\": \"white\", \"linecolor\": \"white\", \"ticks\": \"\", \"zerolinecolor\": \"white\", \"zerolinewidth\": 2}, \"yaxis\": {\"automargin\": true, \"gridcolor\": \"white\", \"linecolor\": \"white\", \"ticks\": \"\", \"zerolinecolor\": \"white\", \"zerolinewidth\": 2}}}, \"title\": {\"text\": \"An\\u00e1lisis de dinero del IDAAAN en 2018\"}, \"xaxis\": {\"tickfont\": {\"size\": 14}}, \"yaxis\": {\"tickfont\": {\"size\": 14}, \"title\": {\"font\": {\"size\": 16}, \"text\": \"D\\u00f3lares\"}}},\n",
       "                        {\"responsive\": true}\n",
       "                    ).then(function(){\n",
       "                            \n",
       "var gd = document.getElementById('1def7203-4ee6-4911-9343-a149d850dadc');\n",
       "var x = new MutationObserver(function (mutations, observer) {{\n",
       "        var display = window.getComputedStyle(gd).display;\n",
       "        if (!display || display === 'none') {{\n",
       "            console.log([gd, 'removed!']);\n",
       "            Plotly.purge(gd);\n",
       "            observer.disconnect();\n",
       "        }}\n",
       "}});\n",
       "\n",
       "// Listen for the removal of the full notebook cells\n",
       "var notebookContainer = gd.closest('#notebook-container');\n",
       "if (notebookContainer) {{\n",
       "    x.observe(notebookContainer, {childList: true});\n",
       "}}\n",
       "\n",
       "// Listen for the clearing of the current output cell\n",
       "var outputEl = gd.closest('.output');\n",
       "if (outputEl) {{\n",
       "    x.observe(outputEl, {childList: true});\n",
       "}}\n",
       "\n",
       "                        })\n",
       "                };\n",
       "                });\n",
       "            </script>\n",
       "        </div>"
      ]
     },
     "metadata": {},
     "output_type": "display_data"
    }
   ],
   "source": [
    "fig_descrp = go.Figure()\n",
    "\n",
    "fig_descrp.add_trace(go.Bar(x=df_idaan_pro['DESCRIPCION'], \n",
    "                                   y=df_idaan_pro[2018],marker_color='rgb(55, 83, 109)'))\n",
    "\n",
    "fig_descrp.update_layout(\n",
    "    title='Análisis de dinero del IDAAAN en 2018',\n",
    "    xaxis_tickfont_size=14,\n",
    "    yaxis=dict(\n",
    "        title='Dólares',\n",
    "        titlefont_size=16,\n",
    "        tickfont_size=14,\n",
    "    ),\n",
    "    barmode='group'\n",
    ")\n",
    "\n",
    "fig_descrp.show()"
   ]
  },
  {
   "cell_type": "markdown",
   "metadata": {},
   "source": [
    "## Grafica por año"
   ]
  },
  {
   "cell_type": "markdown",
   "metadata": {},
   "source": [
    "# Machine Learning"
   ]
  },
  {
   "cell_type": "code",
   "execution_count": 202,
   "metadata": {
    "ExecuteTime": {
     "end_time": "2019-09-29T08:26:57.444613Z",
     "start_time": "2019-09-29T08:26:57.400058Z"
    },
    "scrolled": true
   },
   "outputs": [
    {
     "data": {
      "text/html": [
       "<div>\n",
       "<style scoped>\n",
       "    .dataframe tbody tr th:only-of-type {\n",
       "        vertical-align: middle;\n",
       "    }\n",
       "\n",
       "    .dataframe tbody tr th {\n",
       "        vertical-align: top;\n",
       "    }\n",
       "\n",
       "    .dataframe thead th {\n",
       "        text-align: right;\n",
       "    }\n",
       "</style>\n",
       "<table border=\"1\" class=\"dataframe\">\n",
       "  <thead>\n",
       "    <tr style=\"text-align: right;\">\n",
       "      <th></th>\n",
       "      <th>DESCRIPCION</th>\n",
       "      <th>1984</th>\n",
       "      <th>1985</th>\n",
       "      <th>1986</th>\n",
       "      <th>1987</th>\n",
       "      <th>1988</th>\n",
       "      <th>1989</th>\n",
       "      <th>1990</th>\n",
       "      <th>1991</th>\n",
       "      <th>1992</th>\n",
       "      <th>...</th>\n",
       "      <th>2009</th>\n",
       "      <th>2010</th>\n",
       "      <th>2011</th>\n",
       "      <th>2012</th>\n",
       "      <th>2013</th>\n",
       "      <th>2014</th>\n",
       "      <th>2015</th>\n",
       "      <th>2016</th>\n",
       "      <th>2017</th>\n",
       "      <th>2018</th>\n",
       "    </tr>\n",
       "  </thead>\n",
       "  <tbody>\n",
       "    <tr>\n",
       "      <th>0</th>\n",
       "      <td>INGRESOS DE OPERACIÓN</td>\n",
       "      <td>40422</td>\n",
       "      <td>42294</td>\n",
       "      <td>43649</td>\n",
       "      <td>44917</td>\n",
       "      <td>48053</td>\n",
       "      <td>49316</td>\n",
       "      <td>49704</td>\n",
       "      <td>46944</td>\n",
       "      <td>50894</td>\n",
       "      <td>...</td>\n",
       "      <td>95146</td>\n",
       "      <td>98338</td>\n",
       "      <td>103861</td>\n",
       "      <td>115540</td>\n",
       "      <td>121673</td>\n",
       "      <td>138648</td>\n",
       "      <td>132643</td>\n",
       "      <td>134433</td>\n",
       "      <td>141354</td>\n",
       "      <td>138513</td>\n",
       "    </tr>\n",
       "    <tr>\n",
       "      <th>7</th>\n",
       "      <td>TOTAL GASTOS OPERATIVOS</td>\n",
       "      <td>39928</td>\n",
       "      <td>44379</td>\n",
       "      <td>42146</td>\n",
       "      <td>45866</td>\n",
       "      <td>46117</td>\n",
       "      <td>45705</td>\n",
       "      <td>46740</td>\n",
       "      <td>49465</td>\n",
       "      <td>50223</td>\n",
       "      <td>...</td>\n",
       "      <td>118658</td>\n",
       "      <td>129346</td>\n",
       "      <td>131242</td>\n",
       "      <td>147091</td>\n",
       "      <td>174805</td>\n",
       "      <td>181011</td>\n",
       "      <td>192898</td>\n",
       "      <td>201739</td>\n",
       "      <td>176437</td>\n",
       "      <td>219050</td>\n",
       "    </tr>\n",
       "    <tr>\n",
       "      <th>8</th>\n",
       "      <td>DEFICIT O SUPERAVIT EN OPERACIÓN</td>\n",
       "      <td>494</td>\n",
       "      <td>-2085</td>\n",
       "      <td>1503</td>\n",
       "      <td>-949</td>\n",
       "      <td>1936</td>\n",
       "      <td>3611</td>\n",
       "      <td>2964</td>\n",
       "      <td>-2521</td>\n",
       "      <td>671</td>\n",
       "      <td>...</td>\n",
       "      <td>-23512</td>\n",
       "      <td>-31008</td>\n",
       "      <td>-27381</td>\n",
       "      <td>-31551</td>\n",
       "      <td>-53132</td>\n",
       "      <td>-42363</td>\n",
       "      <td>-60255</td>\n",
       "      <td>-67306</td>\n",
       "      <td>-35083</td>\n",
       "      <td>-80537</td>\n",
       "    </tr>\n",
       "  </tbody>\n",
       "</table>\n",
       "<p>3 rows × 36 columns</p>\n",
       "</div>"
      ],
      "text/plain": [
       "                        DESCRIPCION   1984   1985   1986   1987   1988   1989  \\\n",
       "0             INGRESOS DE OPERACIÓN  40422  42294  43649  44917  48053  49316   \n",
       "7           TOTAL GASTOS OPERATIVOS  39928  44379  42146  45866  46117  45705   \n",
       "8  DEFICIT O SUPERAVIT EN OPERACIÓN    494  -2085   1503   -949   1936   3611   \n",
       "\n",
       "    1990   1991   1992  ...    2009    2010    2011    2012    2013    2014  \\\n",
       "0  49704  46944  50894  ...   95146   98338  103861  115540  121673  138648   \n",
       "7  46740  49465  50223  ...  118658  129346  131242  147091  174805  181011   \n",
       "8   2964  -2521    671  ...  -23512  -31008  -27381  -31551  -53132  -42363   \n",
       "\n",
       "     2015    2016    2017    2018  \n",
       "0  132643  134433  141354  138513  \n",
       "7  192898  201739  176437  219050  \n",
       "8  -60255  -67306  -35083  -80537  \n",
       "\n",
       "[3 rows x 36 columns]"
      ]
     },
     "execution_count": 202,
     "metadata": {},
     "output_type": "execute_result"
    }
   ],
   "source": [
    "df_idaan_pro"
   ]
  },
  {
   "cell_type": "code",
   "execution_count": 203,
   "metadata": {
    "ExecuteTime": {
     "end_time": "2019-09-29T08:27:09.265753Z",
     "start_time": "2019-09-29T08:27:09.258677Z"
    }
   },
   "outputs": [],
   "source": [
    "df_idaan_pro = df_idaan_pro.rename(columns={'DESCRIPCION':'AÑO'})"
   ]
  },
  {
   "cell_type": "code",
   "execution_count": 204,
   "metadata": {
    "ExecuteTime": {
     "end_time": "2019-09-29T08:27:20.095244Z",
     "start_time": "2019-09-29T08:27:20.088263Z"
    }
   },
   "outputs": [],
   "source": [
    "# Descripcion como indice\n",
    "df_idaan_pro = df_idaan_pro.set_index('AÑO')"
   ]
  },
  {
   "cell_type": "code",
   "execution_count": 205,
   "metadata": {
    "ExecuteTime": {
     "end_time": "2019-09-29T08:27:24.133809Z",
     "start_time": "2019-09-29T08:27:24.123642Z"
    }
   },
   "outputs": [],
   "source": [
    "df_idaan_pro = df_idaan_pro.transpose()"
   ]
  },
  {
   "cell_type": "code",
   "execution_count": 207,
   "metadata": {
    "ExecuteTime": {
     "end_time": "2019-09-29T08:28:15.752689Z",
     "start_time": "2019-09-29T08:28:15.719534Z"
    },
    "scrolled": true
   },
   "outputs": [
    {
     "data": {
      "text/html": [
       "<div>\n",
       "<style scoped>\n",
       "    .dataframe tbody tr th:only-of-type {\n",
       "        vertical-align: middle;\n",
       "    }\n",
       "\n",
       "    .dataframe tbody tr th {\n",
       "        vertical-align: top;\n",
       "    }\n",
       "\n",
       "    .dataframe thead th {\n",
       "        text-align: right;\n",
       "    }\n",
       "</style>\n",
       "<table border=\"1\" class=\"dataframe\">\n",
       "  <thead>\n",
       "    <tr style=\"text-align: right;\">\n",
       "      <th>AÑO</th>\n",
       "      <th>INGRESOS DE OPERACIÓN</th>\n",
       "      <th>TOTAL GASTOS OPERATIVOS</th>\n",
       "      <th>DEFICIT O SUPERAVIT EN OPERACIÓN</th>\n",
       "    </tr>\n",
       "  </thead>\n",
       "  <tbody>\n",
       "    <tr>\n",
       "      <th>1984</th>\n",
       "      <td>40422</td>\n",
       "      <td>39928</td>\n",
       "      <td>494</td>\n",
       "    </tr>\n",
       "    <tr>\n",
       "      <th>1985</th>\n",
       "      <td>42294</td>\n",
       "      <td>44379</td>\n",
       "      <td>-2085</td>\n",
       "    </tr>\n",
       "    <tr>\n",
       "      <th>1986</th>\n",
       "      <td>43649</td>\n",
       "      <td>42146</td>\n",
       "      <td>1503</td>\n",
       "    </tr>\n",
       "    <tr>\n",
       "      <th>1987</th>\n",
       "      <td>44917</td>\n",
       "      <td>45866</td>\n",
       "      <td>-949</td>\n",
       "    </tr>\n",
       "    <tr>\n",
       "      <th>1988</th>\n",
       "      <td>48053</td>\n",
       "      <td>46117</td>\n",
       "      <td>1936</td>\n",
       "    </tr>\n",
       "    <tr>\n",
       "      <th>1989</th>\n",
       "      <td>49316</td>\n",
       "      <td>45705</td>\n",
       "      <td>3611</td>\n",
       "    </tr>\n",
       "    <tr>\n",
       "      <th>1990</th>\n",
       "      <td>49704</td>\n",
       "      <td>46740</td>\n",
       "      <td>2964</td>\n",
       "    </tr>\n",
       "    <tr>\n",
       "      <th>1991</th>\n",
       "      <td>46944</td>\n",
       "      <td>49465</td>\n",
       "      <td>-2521</td>\n",
       "    </tr>\n",
       "    <tr>\n",
       "      <th>1992</th>\n",
       "      <td>50894</td>\n",
       "      <td>50223</td>\n",
       "      <td>671</td>\n",
       "    </tr>\n",
       "    <tr>\n",
       "      <th>1993</th>\n",
       "      <td>52348</td>\n",
       "      <td>51854</td>\n",
       "      <td>494</td>\n",
       "    </tr>\n",
       "    <tr>\n",
       "      <th>1994</th>\n",
       "      <td>55979</td>\n",
       "      <td>54005</td>\n",
       "      <td>1974</td>\n",
       "    </tr>\n",
       "    <tr>\n",
       "      <th>1995</th>\n",
       "      <td>57627</td>\n",
       "      <td>58059</td>\n",
       "      <td>-432</td>\n",
       "    </tr>\n",
       "    <tr>\n",
       "      <th>1996</th>\n",
       "      <td>56953</td>\n",
       "      <td>61967</td>\n",
       "      <td>-5014</td>\n",
       "    </tr>\n",
       "    <tr>\n",
       "      <th>1997</th>\n",
       "      <td>62627</td>\n",
       "      <td>66103</td>\n",
       "      <td>-3476</td>\n",
       "    </tr>\n",
       "    <tr>\n",
       "      <th>1998</th>\n",
       "      <td>63324</td>\n",
       "      <td>80860</td>\n",
       "      <td>-17536</td>\n",
       "    </tr>\n",
       "    <tr>\n",
       "      <th>1999</th>\n",
       "      <td>63979</td>\n",
       "      <td>69033</td>\n",
       "      <td>-5054</td>\n",
       "    </tr>\n",
       "    <tr>\n",
       "      <th>2000</th>\n",
       "      <td>64781</td>\n",
       "      <td>73210</td>\n",
       "      <td>-8429</td>\n",
       "    </tr>\n",
       "    <tr>\n",
       "      <th>2001</th>\n",
       "      <td>66081</td>\n",
       "      <td>78237</td>\n",
       "      <td>-12156</td>\n",
       "    </tr>\n",
       "    <tr>\n",
       "      <th>2002</th>\n",
       "      <td>66135</td>\n",
       "      <td>77363</td>\n",
       "      <td>-11228</td>\n",
       "    </tr>\n",
       "    <tr>\n",
       "      <th>2003</th>\n",
       "      <td>67336</td>\n",
       "      <td>79273</td>\n",
       "      <td>-11937</td>\n",
       "    </tr>\n",
       "    <tr>\n",
       "      <th>2004</th>\n",
       "      <td>71276</td>\n",
       "      <td>85750</td>\n",
       "      <td>-14474</td>\n",
       "    </tr>\n",
       "    <tr>\n",
       "      <th>2005</th>\n",
       "      <td>71980</td>\n",
       "      <td>91579</td>\n",
       "      <td>-19599</td>\n",
       "    </tr>\n",
       "    <tr>\n",
       "      <th>2006</th>\n",
       "      <td>78164</td>\n",
       "      <td>93861</td>\n",
       "      <td>-15697</td>\n",
       "    </tr>\n",
       "    <tr>\n",
       "      <th>2007</th>\n",
       "      <td>85143</td>\n",
       "      <td>101457</td>\n",
       "      <td>-16314</td>\n",
       "    </tr>\n",
       "    <tr>\n",
       "      <th>2008</th>\n",
       "      <td>86999</td>\n",
       "      <td>121037</td>\n",
       "      <td>-34038</td>\n",
       "    </tr>\n",
       "    <tr>\n",
       "      <th>2009</th>\n",
       "      <td>95146</td>\n",
       "      <td>118658</td>\n",
       "      <td>-23512</td>\n",
       "    </tr>\n",
       "    <tr>\n",
       "      <th>2010</th>\n",
       "      <td>98338</td>\n",
       "      <td>129346</td>\n",
       "      <td>-31008</td>\n",
       "    </tr>\n",
       "    <tr>\n",
       "      <th>2011</th>\n",
       "      <td>103861</td>\n",
       "      <td>131242</td>\n",
       "      <td>-27381</td>\n",
       "    </tr>\n",
       "    <tr>\n",
       "      <th>2012</th>\n",
       "      <td>115540</td>\n",
       "      <td>147091</td>\n",
       "      <td>-31551</td>\n",
       "    </tr>\n",
       "    <tr>\n",
       "      <th>2013</th>\n",
       "      <td>121673</td>\n",
       "      <td>174805</td>\n",
       "      <td>-53132</td>\n",
       "    </tr>\n",
       "    <tr>\n",
       "      <th>2014</th>\n",
       "      <td>138648</td>\n",
       "      <td>181011</td>\n",
       "      <td>-42363</td>\n",
       "    </tr>\n",
       "    <tr>\n",
       "      <th>2015</th>\n",
       "      <td>132643</td>\n",
       "      <td>192898</td>\n",
       "      <td>-60255</td>\n",
       "    </tr>\n",
       "    <tr>\n",
       "      <th>2016</th>\n",
       "      <td>134433</td>\n",
       "      <td>201739</td>\n",
       "      <td>-67306</td>\n",
       "    </tr>\n",
       "    <tr>\n",
       "      <th>2017</th>\n",
       "      <td>141354</td>\n",
       "      <td>176437</td>\n",
       "      <td>-35083</td>\n",
       "    </tr>\n",
       "    <tr>\n",
       "      <th>2018</th>\n",
       "      <td>138513</td>\n",
       "      <td>219050</td>\n",
       "      <td>-80537</td>\n",
       "    </tr>\n",
       "  </tbody>\n",
       "</table>\n",
       "</div>"
      ],
      "text/plain": [
       "AÑO  INGRESOS DE OPERACIÓN TOTAL GASTOS OPERATIVOS  \\\n",
       "1984                 40422                   39928   \n",
       "1985                 42294                   44379   \n",
       "1986                 43649                   42146   \n",
       "1987                 44917                   45866   \n",
       "1988                 48053                   46117   \n",
       "1989                 49316                   45705   \n",
       "1990                 49704                   46740   \n",
       "1991                 46944                   49465   \n",
       "1992                 50894                   50223   \n",
       "1993                 52348                   51854   \n",
       "1994                 55979                   54005   \n",
       "1995                 57627                   58059   \n",
       "1996                 56953                   61967   \n",
       "1997                 62627                   66103   \n",
       "1998                 63324                   80860   \n",
       "1999                 63979                   69033   \n",
       "2000                 64781                   73210   \n",
       "2001                 66081                   78237   \n",
       "2002                 66135                   77363   \n",
       "2003                 67336                   79273   \n",
       "2004                 71276                   85750   \n",
       "2005                 71980                   91579   \n",
       "2006                 78164                   93861   \n",
       "2007                 85143                  101457   \n",
       "2008                 86999                  121037   \n",
       "2009                 95146                  118658   \n",
       "2010                 98338                  129346   \n",
       "2011                103861                  131242   \n",
       "2012                115540                  147091   \n",
       "2013                121673                  174805   \n",
       "2014                138648                  181011   \n",
       "2015                132643                  192898   \n",
       "2016                134433                  201739   \n",
       "2017                141354                  176437   \n",
       "2018                138513                  219050   \n",
       "\n",
       "AÑO  DEFICIT O SUPERAVIT EN OPERACIÓN  \n",
       "1984                              494  \n",
       "1985                            -2085  \n",
       "1986                             1503  \n",
       "1987                             -949  \n",
       "1988                             1936  \n",
       "1989                             3611  \n",
       "1990                             2964  \n",
       "1991                            -2521  \n",
       "1992                              671  \n",
       "1993                              494  \n",
       "1994                             1974  \n",
       "1995                             -432  \n",
       "1996                            -5014  \n",
       "1997                            -3476  \n",
       "1998                           -17536  \n",
       "1999                            -5054  \n",
       "2000                            -8429  \n",
       "2001                           -12156  \n",
       "2002                           -11228  \n",
       "2003                           -11937  \n",
       "2004                           -14474  \n",
       "2005                           -19599  \n",
       "2006                           -15697  \n",
       "2007                           -16314  \n",
       "2008                           -34038  \n",
       "2009                           -23512  \n",
       "2010                           -31008  \n",
       "2011                           -27381  \n",
       "2012                           -31551  \n",
       "2013                           -53132  \n",
       "2014                           -42363  \n",
       "2015                           -60255  \n",
       "2016                           -67306  \n",
       "2017                           -35083  \n",
       "2018                           -80537  "
      ]
     },
     "execution_count": 207,
     "metadata": {},
     "output_type": "execute_result"
    }
   ],
   "source": [
    "df_idaan_ml = df_idaan_pro\n",
    "df_idaan_ml"
   ]
  },
  {
   "cell_type": "code",
   "execution_count": 211,
   "metadata": {
    "ExecuteTime": {
     "end_time": "2019-09-29T08:34:37.514767Z",
     "start_time": "2019-09-29T08:34:37.489832Z"
    }
   },
   "outputs": [
    {
     "data": {
      "text/html": [
       "<div>\n",
       "<style scoped>\n",
       "    .dataframe tbody tr th:only-of-type {\n",
       "        vertical-align: middle;\n",
       "    }\n",
       "\n",
       "    .dataframe tbody tr th {\n",
       "        vertical-align: top;\n",
       "    }\n",
       "\n",
       "    .dataframe thead th {\n",
       "        text-align: right;\n",
       "    }\n",
       "</style>\n",
       "<table border=\"1\" class=\"dataframe\">\n",
       "  <thead>\n",
       "    <tr style=\"text-align: right;\">\n",
       "      <th>AÑO</th>\n",
       "      <th>Ingresos</th>\n",
       "      <th>Total_gastos</th>\n",
       "      <th>Balance</th>\n",
       "    </tr>\n",
       "  </thead>\n",
       "  <tbody>\n",
       "    <tr>\n",
       "      <th>1984</th>\n",
       "      <td>40422</td>\n",
       "      <td>39928</td>\n",
       "      <td>494</td>\n",
       "    </tr>\n",
       "    <tr>\n",
       "      <th>1985</th>\n",
       "      <td>42294</td>\n",
       "      <td>44379</td>\n",
       "      <td>-2085</td>\n",
       "    </tr>\n",
       "    <tr>\n",
       "      <th>1986</th>\n",
       "      <td>43649</td>\n",
       "      <td>42146</td>\n",
       "      <td>1503</td>\n",
       "    </tr>\n",
       "    <tr>\n",
       "      <th>1987</th>\n",
       "      <td>44917</td>\n",
       "      <td>45866</td>\n",
       "      <td>-949</td>\n",
       "    </tr>\n",
       "    <tr>\n",
       "      <th>1988</th>\n",
       "      <td>48053</td>\n",
       "      <td>46117</td>\n",
       "      <td>1936</td>\n",
       "    </tr>\n",
       "  </tbody>\n",
       "</table>\n",
       "</div>"
      ],
      "text/plain": [
       "AÑO  Ingresos Total_gastos Balance\n",
       "1984    40422        39928     494\n",
       "1985    42294        44379   -2085\n",
       "1986    43649        42146    1503\n",
       "1987    44917        45866    -949\n",
       "1988    48053        46117    1936"
      ]
     },
     "execution_count": 211,
     "metadata": {},
     "output_type": "execute_result"
    }
   ],
   "source": [
    "df_idaan_ml= df_idaan_ml.rename(columns={'INGRESOS DE OPERACIÓN':'Ingresos','TOTAL GASTOS OPERATIVOS':'Total_gastos',\n",
    "                           'DEFICIT O SUPERAVIT EN OPERACIÓN':'Balance'})\n",
    "df_idaan_ml.head()"
   ]
  },
  {
   "cell_type": "markdown",
   "metadata": {},
   "source": [
    "df_idaan_pro.to_csv('idaan_3_rows.csv')"
   ]
  },
  {
   "cell_type": "code",
   "execution_count": 256,
   "metadata": {
    "ExecuteTime": {
     "end_time": "2019-09-29T09:53:55.285517Z",
     "start_time": "2019-09-29T09:53:55.267530Z"
    }
   },
   "outputs": [],
   "source": [
    "df_idaan_ml.to_csv('idaan_ml.csv')"
   ]
  },
  {
   "cell_type": "markdown",
   "metadata": {},
   "source": [
    "## Usar Regresion Lineal Múltiple"
   ]
  },
  {
   "cell_type": "code",
   "execution_count": 265,
   "metadata": {
    "ExecuteTime": {
     "end_time": "2019-09-29T10:06:59.441274Z",
     "start_time": "2019-09-29T10:06:59.434292Z"
    }
   },
   "outputs": [],
   "source": [
    "import numpy as np\n",
    "from sklearn.linear_model import LinearRegression"
   ]
  },
  {
   "cell_type": "markdown",
   "metadata": {},
   "source": [
    "### Entrenando Modelo De Regresión Lineal Múltiple"
   ]
  },
  {
   "cell_type": "code",
   "execution_count": 303,
   "metadata": {
    "ExecuteTime": {
     "end_time": "2019-09-29T10:23:10.621214Z",
     "start_time": "2019-09-29T10:23:10.611240Z"
    }
   },
   "outputs": [],
   "source": [
    "x = np.asanyarray(df_idaan_ml[['Ingresos','Total_gastos']])\n",
    "y = np.asanyarray(df_idaan_ml[['Balance']])"
   ]
  },
  {
   "cell_type": "code",
   "execution_count": 304,
   "metadata": {
    "ExecuteTime": {
     "end_time": "2019-09-29T10:23:10.964306Z",
     "start_time": "2019-09-29T10:23:10.961304Z"
    }
   },
   "outputs": [],
   "source": [
    "model = LinearRegression().fit(x,y)"
   ]
  },
  {
   "cell_type": "code",
   "execution_count": 305,
   "metadata": {
    "ExecuteTime": {
     "end_time": "2019-09-29T10:23:11.439579Z",
     "start_time": "2019-09-29T10:23:11.433593Z"
    },
    "scrolled": true
   },
   "outputs": [
    {
     "name": "stdout",
     "output_type": "stream",
     "text": [
      "The coefficient of determination: 1.0\n",
      "intercept: [-4.00177669e-11]\n",
      "slope: [[ 1. -1.]]\n"
     ]
    }
   ],
   "source": [
    "r_sq = model.score(x, y)\n",
    "print(\"The coefficient of determination:\", r_sq)\n",
    "print('intercept:', model.intercept_)\n",
    "print('slope:', model.coef_)"
   ]
  },
  {
   "cell_type": "code",
   "execution_count": 306,
   "metadata": {
    "ExecuteTime": {
     "end_time": "2019-09-29T10:23:16.477034Z",
     "start_time": "2019-09-29T10:23:16.472047Z"
    },
    "scrolled": true
   },
   "outputs": [
    {
     "name": "stdout",
     "output_type": "stream",
     "text": [
      "predicted response:\n",
      "[[   494.]\n",
      " [ -2085.]\n",
      " [  1503.]\n",
      " [  -949.]\n",
      " [  1936.]\n",
      " [  3611.]\n",
      " [  2964.]\n",
      " [ -2521.]\n",
      " [   671.]\n",
      " [   494.]\n",
      " [  1974.]\n",
      " [  -432.]\n",
      " [ -5014.]\n",
      " [ -3476.]\n",
      " [-17536.]\n",
      " [ -5054.]\n",
      " [ -8429.]\n",
      " [-12156.]\n",
      " [-11228.]\n",
      " [-11937.]\n",
      " [-14474.]\n",
      " [-19599.]\n",
      " [-15697.]\n",
      " [-16314.]\n",
      " [-34038.]\n",
      " [-23512.]\n",
      " [-31008.]\n",
      " [-27381.]\n",
      " [-31551.]\n",
      " [-53132.]\n",
      " [-42363.]\n",
      " [-60255.]\n",
      " [-67306.]\n",
      " [-35083.]\n",
      " [-80537.]]\n"
     ]
    }
   ],
   "source": [
    "y_pred = model.predict(x)\n",
    "print('predicted response:', y_pred, sep='\\n')"
   ]
  },
  {
   "cell_type": "markdown",
   "metadata": {},
   "source": [
    "## Algoritmo del Programa"
   ]
  },
  {
   "cell_type": "code",
   "execution_count": 314,
   "metadata": {
    "ExecuteTime": {
     "end_time": "2019-09-29T10:32:18.363643Z",
     "start_time": "2019-09-29T10:32:18.355709Z"
    }
   },
   "outputs": [
    {
     "name": "stdout",
     "output_type": "stream",
     "text": [
      "[['40422' '39928']\n",
      " ['42294' '44379']\n",
      " ['43649' '42146']\n",
      " ['44917' '45866']\n",
      " ['48053' '46117']\n",
      " ['49316' '45705']\n",
      " ['49704' '46740']\n",
      " ['46944' '49465']\n",
      " ['50894' '50223']\n",
      " ['52348' '51854']\n",
      " ['55979' '54005']\n",
      " ['57627' '58059']\n",
      " ['56953' '61967']\n",
      " ['62627' '66103']\n",
      " ['63324' '80860']\n",
      " ['63979' '69033']\n",
      " ['64781' '73210']\n",
      " ['66081' '78237']\n",
      " ['66135' '77363']\n",
      " ['67336' '79273']\n",
      " ['71276' '85750']\n",
      " ['71980' '91579']\n",
      " ['78164' '93861']\n",
      " ['85143' '101457']\n",
      " ['86999' '121037']\n",
      " ['95146' '118658']\n",
      " ['98338' '129346']\n",
      " ['103861' '131242']\n",
      " ['115540' '147091']\n",
      " ['121673' '174805']\n",
      " ['138648' '181011']\n",
      " ['132643' '192898']\n",
      " ['134433' '201739']\n",
      " ['141354' '176437']\n",
      " ['138513' '219050']]\n"
     ]
    }
   ],
   "source": [
    "x_new = np.asanyarray(df_idaan_ml[['Ingresos','Total_gastos']])\n",
    "print(x_new)"
   ]
  },
  {
   "cell_type": "code",
   "execution_count": 310,
   "metadata": {
    "ExecuteTime": {
     "end_time": "2019-09-29T10:24:14.401627Z",
     "start_time": "2019-09-29T10:24:14.395647Z"
    }
   },
   "outputs": [
    {
     "name": "stdout",
     "output_type": "stream",
     "text": [
      "[[   494.]\n",
      " [ -2085.]\n",
      " [  1503.]\n",
      " [  -949.]\n",
      " [  1936.]\n",
      " [  3611.]\n",
      " [  2964.]\n",
      " [ -2521.]\n",
      " [   671.]\n",
      " [   494.]\n",
      " [  1974.]\n",
      " [  -432.]\n",
      " [ -5014.]\n",
      " [ -3476.]\n",
      " [-17536.]\n",
      " [ -5054.]\n",
      " [ -8429.]\n",
      " [-12156.]\n",
      " [-11228.]\n",
      " [-11937.]\n",
      " [-14474.]\n",
      " [-19599.]\n",
      " [-15697.]\n",
      " [-16314.]\n",
      " [-34038.]\n",
      " [-23512.]\n",
      " [-31008.]\n",
      " [-27381.]\n",
      " [-31551.]\n",
      " [-53132.]\n",
      " [-42363.]\n",
      " [-60255.]\n",
      " [-67306.]\n",
      " [-35083.]\n",
      " [-80537.]]\n"
     ]
    }
   ],
   "source": [
    "y_new = model.predict(x_new)\n",
    "print(y_new)"
   ]
  },
  {
   "cell_type": "markdown",
   "metadata": {},
   "source": [
    "# Data Visualization with plotly"
   ]
  },
  {
   "cell_type": "markdown",
   "metadata": {},
   "source": [
    "## Importar Plotly"
   ]
  },
  {
   "cell_type": "code",
   "execution_count": 311,
   "metadata": {
    "ExecuteTime": {
     "end_time": "2019-09-29T10:30:14.025930Z",
     "start_time": "2019-09-29T10:30:14.018949Z"
    }
   },
   "outputs": [],
   "source": [
    "import plotly.express as px\n",
    "import plotly.graph_objects as go"
   ]
  },
  {
   "cell_type": "code",
   "execution_count": 342,
   "metadata": {
    "ExecuteTime": {
     "end_time": "2019-09-29T10:43:23.314566Z",
     "start_time": "2019-09-29T10:43:23.308619Z"
    }
   },
   "outputs": [],
   "source": [
    "x_new_1 = np.asanyarray(df_idaan_ml['Ingresos'])\n",
    "x_new_2 = np.asanyarray(df_idaan_ml['Total_gastos'])                    "
   ]
  },
  {
   "cell_type": "code",
   "execution_count": null,
   "metadata": {
    "ExecuteTime": {
     "end_time": "2019-09-29T10:45:43.602828Z",
     "start_time": "2019-09-29T10:45:43.597840Z"
    },
    "scrolled": true
   },
   "outputs": [],
   "source": []
  },
  {
   "cell_type": "code",
   "execution_count": 370,
   "metadata": {
    "ExecuteTime": {
     "end_time": "2019-09-29T10:48:44.352025Z",
     "start_time": "2019-09-29T10:48:44.347067Z"
    }
   },
   "outputs": [
    {
     "data": {
      "text/plain": [
       "array([['40422'],\n",
       "       ['42294'],\n",
       "       ['43649'],\n",
       "       ['44917'],\n",
       "       ['48053'],\n",
       "       ['49316'],\n",
       "       ['49704'],\n",
       "       ['46944'],\n",
       "       ['50894'],\n",
       "       ['52348'],\n",
       "       ['55979'],\n",
       "       ['57627'],\n",
       "       ['56953'],\n",
       "       ['62627'],\n",
       "       ['63324'],\n",
       "       ['63979'],\n",
       "       ['64781'],\n",
       "       ['66081'],\n",
       "       ['66135'],\n",
       "       ['67336'],\n",
       "       ['71276'],\n",
       "       ['71980'],\n",
       "       ['78164'],\n",
       "       ['85143'],\n",
       "       ['86999'],\n",
       "       ['95146'],\n",
       "       ['98338'],\n",
       "       ['103861'],\n",
       "       ['115540'],\n",
       "       ['121673'],\n",
       "       ['138648'],\n",
       "       ['132643'],\n",
       "       ['134433'],\n",
       "       ['141354'],\n",
       "       ['138513']], dtype=object)"
      ]
     },
     "execution_count": 370,
     "metadata": {},
     "output_type": "execute_result"
    }
   ],
   "source": [
    "x_new_1.reshape(-1,1)"
   ]
  },
  {
   "cell_type": "code",
   "execution_count": 366,
   "metadata": {
    "ExecuteTime": {
     "end_time": "2019-09-29T10:48:09.440624Z",
     "start_time": "2019-09-29T10:48:09.434640Z"
    }
   },
   "outputs": [
    {
     "data": {
      "text/plain": [
       "(35,)"
      ]
     },
     "execution_count": 366,
     "metadata": {},
     "output_type": "execute_result"
    }
   ],
   "source": [
    "x_new_2.reshape(-1,1)"
   ]
  },
  {
   "cell_type": "code",
   "execution_count": 367,
   "metadata": {
    "ExecuteTime": {
     "end_time": "2019-09-29T10:48:12.740760Z",
     "start_time": "2019-09-29T10:48:12.737720Z"
    }
   },
   "outputs": [],
   "source": [
    "y_new.reshape(-1,1)"
   ]
  },
  {
   "cell_type": "code",
   "execution_count": 371,
   "metadata": {
    "ExecuteTime": {
     "end_time": "2019-09-29T10:49:26.039374Z",
     "start_time": "2019-09-29T10:49:26.033389Z"
    }
   },
   "outputs": [
    {
     "name": "stdout",
     "output_type": "stream",
     "text": [
      "(35,)\n",
      "(35,)\n",
      "(35,)\n"
     ]
    }
   ],
   "source": [
    "print(y_new.shape)\n",
    "print(x_new_1.shape)\n",
    "print(x_new_2.shape)"
   ]
  },
  {
   "cell_type": "code",
   "execution_count": 376,
   "metadata": {
    "ExecuteTime": {
     "end_time": "2019-09-29T10:50:46.392315Z",
     "start_time": "2019-09-29T10:50:46.387332Z"
    },
    "scrolled": false
   },
   "outputs": [
    {
     "data": {
      "text/plain": [
       "dtype('float64')"
      ]
     },
     "execution_count": 376,
     "metadata": {},
     "output_type": "execute_result"
    }
   ],
   "source": [
    "y_new.dtype"
   ]
  },
  {
   "cell_type": "code",
   "execution_count": 388,
   "metadata": {
    "ExecuteTime": {
     "end_time": "2019-09-29T10:58:28.591885Z",
     "start_time": "2019-09-29T10:58:28.569984Z"
    }
   },
   "outputs": [
    {
     "data": {
      "text/html": [
       "<div>\n",
       "<style scoped>\n",
       "    .dataframe tbody tr th:only-of-type {\n",
       "        vertical-align: middle;\n",
       "    }\n",
       "\n",
       "    .dataframe tbody tr th {\n",
       "        vertical-align: top;\n",
       "    }\n",
       "\n",
       "    .dataframe thead th {\n",
       "        text-align: right;\n",
       "    }\n",
       "</style>\n",
       "<table border=\"1\" class=\"dataframe\">\n",
       "  <thead>\n",
       "    <tr style=\"text-align: right;\">\n",
       "      <th></th>\n",
       "      <th>Años</th>\n",
       "      <th>Ingresos</th>\n",
       "      <th>Total_gastos</th>\n",
       "      <th>Balance</th>\n",
       "    </tr>\n",
       "  </thead>\n",
       "  <tbody>\n",
       "    <tr>\n",
       "      <th>0</th>\n",
       "      <td>2019</td>\n",
       "      <td>40422</td>\n",
       "      <td>39928</td>\n",
       "      <td>494.0</td>\n",
       "    </tr>\n",
       "    <tr>\n",
       "      <th>1</th>\n",
       "      <td>2020</td>\n",
       "      <td>42294</td>\n",
       "      <td>44379</td>\n",
       "      <td>-2085.0</td>\n",
       "    </tr>\n",
       "    <tr>\n",
       "      <th>2</th>\n",
       "      <td>2021</td>\n",
       "      <td>43649</td>\n",
       "      <td>42146</td>\n",
       "      <td>1503.0</td>\n",
       "    </tr>\n",
       "    <tr>\n",
       "      <th>3</th>\n",
       "      <td>2022</td>\n",
       "      <td>44917</td>\n",
       "      <td>45866</td>\n",
       "      <td>-949.0</td>\n",
       "    </tr>\n",
       "    <tr>\n",
       "      <th>4</th>\n",
       "      <td>2023</td>\n",
       "      <td>48053</td>\n",
       "      <td>46117</td>\n",
       "      <td>1936.0</td>\n",
       "    </tr>\n",
       "    <tr>\n",
       "      <th>5</th>\n",
       "      <td>2024</td>\n",
       "      <td>49316</td>\n",
       "      <td>45705</td>\n",
       "      <td>3611.0</td>\n",
       "    </tr>\n",
       "    <tr>\n",
       "      <th>6</th>\n",
       "      <td>2025</td>\n",
       "      <td>49704</td>\n",
       "      <td>46740</td>\n",
       "      <td>2964.0</td>\n",
       "    </tr>\n",
       "    <tr>\n",
       "      <th>7</th>\n",
       "      <td>2026</td>\n",
       "      <td>46944</td>\n",
       "      <td>49465</td>\n",
       "      <td>-2521.0</td>\n",
       "    </tr>\n",
       "    <tr>\n",
       "      <th>8</th>\n",
       "      <td>2027</td>\n",
       "      <td>50894</td>\n",
       "      <td>50223</td>\n",
       "      <td>671.0</td>\n",
       "    </tr>\n",
       "    <tr>\n",
       "      <th>9</th>\n",
       "      <td>2028</td>\n",
       "      <td>52348</td>\n",
       "      <td>51854</td>\n",
       "      <td>494.0</td>\n",
       "    </tr>\n",
       "    <tr>\n",
       "      <th>10</th>\n",
       "      <td>2029</td>\n",
       "      <td>55979</td>\n",
       "      <td>54005</td>\n",
       "      <td>1974.0</td>\n",
       "    </tr>\n",
       "    <tr>\n",
       "      <th>11</th>\n",
       "      <td>2030</td>\n",
       "      <td>57627</td>\n",
       "      <td>58059</td>\n",
       "      <td>-432.0</td>\n",
       "    </tr>\n",
       "    <tr>\n",
       "      <th>12</th>\n",
       "      <td>2031</td>\n",
       "      <td>56953</td>\n",
       "      <td>61967</td>\n",
       "      <td>-5014.0</td>\n",
       "    </tr>\n",
       "    <tr>\n",
       "      <th>13</th>\n",
       "      <td>2032</td>\n",
       "      <td>62627</td>\n",
       "      <td>66103</td>\n",
       "      <td>-3476.0</td>\n",
       "    </tr>\n",
       "    <tr>\n",
       "      <th>14</th>\n",
       "      <td>2033</td>\n",
       "      <td>63324</td>\n",
       "      <td>80860</td>\n",
       "      <td>-17536.0</td>\n",
       "    </tr>\n",
       "    <tr>\n",
       "      <th>15</th>\n",
       "      <td>2034</td>\n",
       "      <td>63979</td>\n",
       "      <td>69033</td>\n",
       "      <td>-5054.0</td>\n",
       "    </tr>\n",
       "    <tr>\n",
       "      <th>16</th>\n",
       "      <td>2035</td>\n",
       "      <td>64781</td>\n",
       "      <td>73210</td>\n",
       "      <td>-8429.0</td>\n",
       "    </tr>\n",
       "    <tr>\n",
       "      <th>17</th>\n",
       "      <td>2036</td>\n",
       "      <td>66081</td>\n",
       "      <td>78237</td>\n",
       "      <td>-12156.0</td>\n",
       "    </tr>\n",
       "    <tr>\n",
       "      <th>18</th>\n",
       "      <td>2037</td>\n",
       "      <td>66135</td>\n",
       "      <td>77363</td>\n",
       "      <td>-11228.0</td>\n",
       "    </tr>\n",
       "    <tr>\n",
       "      <th>19</th>\n",
       "      <td>2038</td>\n",
       "      <td>67336</td>\n",
       "      <td>79273</td>\n",
       "      <td>-11937.0</td>\n",
       "    </tr>\n",
       "    <tr>\n",
       "      <th>20</th>\n",
       "      <td>2039</td>\n",
       "      <td>71276</td>\n",
       "      <td>85750</td>\n",
       "      <td>-14474.0</td>\n",
       "    </tr>\n",
       "    <tr>\n",
       "      <th>21</th>\n",
       "      <td>2040</td>\n",
       "      <td>71980</td>\n",
       "      <td>91579</td>\n",
       "      <td>-19599.0</td>\n",
       "    </tr>\n",
       "    <tr>\n",
       "      <th>22</th>\n",
       "      <td>2041</td>\n",
       "      <td>78164</td>\n",
       "      <td>93861</td>\n",
       "      <td>-15697.0</td>\n",
       "    </tr>\n",
       "    <tr>\n",
       "      <th>23</th>\n",
       "      <td>2042</td>\n",
       "      <td>85143</td>\n",
       "      <td>101457</td>\n",
       "      <td>-16314.0</td>\n",
       "    </tr>\n",
       "    <tr>\n",
       "      <th>24</th>\n",
       "      <td>2043</td>\n",
       "      <td>86999</td>\n",
       "      <td>121037</td>\n",
       "      <td>-34038.0</td>\n",
       "    </tr>\n",
       "    <tr>\n",
       "      <th>25</th>\n",
       "      <td>2044</td>\n",
       "      <td>95146</td>\n",
       "      <td>118658</td>\n",
       "      <td>-23512.0</td>\n",
       "    </tr>\n",
       "    <tr>\n",
       "      <th>26</th>\n",
       "      <td>2045</td>\n",
       "      <td>98338</td>\n",
       "      <td>129346</td>\n",
       "      <td>-31008.0</td>\n",
       "    </tr>\n",
       "    <tr>\n",
       "      <th>27</th>\n",
       "      <td>2046</td>\n",
       "      <td>103861</td>\n",
       "      <td>131242</td>\n",
       "      <td>-27381.0</td>\n",
       "    </tr>\n",
       "    <tr>\n",
       "      <th>28</th>\n",
       "      <td>2047</td>\n",
       "      <td>115540</td>\n",
       "      <td>147091</td>\n",
       "      <td>-31551.0</td>\n",
       "    </tr>\n",
       "    <tr>\n",
       "      <th>29</th>\n",
       "      <td>2048</td>\n",
       "      <td>121673</td>\n",
       "      <td>174805</td>\n",
       "      <td>-53132.0</td>\n",
       "    </tr>\n",
       "    <tr>\n",
       "      <th>30</th>\n",
       "      <td>2049</td>\n",
       "      <td>138648</td>\n",
       "      <td>181011</td>\n",
       "      <td>-42363.0</td>\n",
       "    </tr>\n",
       "    <tr>\n",
       "      <th>31</th>\n",
       "      <td>2050</td>\n",
       "      <td>132643</td>\n",
       "      <td>192898</td>\n",
       "      <td>-60255.0</td>\n",
       "    </tr>\n",
       "    <tr>\n",
       "      <th>32</th>\n",
       "      <td>2051</td>\n",
       "      <td>134433</td>\n",
       "      <td>201739</td>\n",
       "      <td>-67306.0</td>\n",
       "    </tr>\n",
       "    <tr>\n",
       "      <th>33</th>\n",
       "      <td>2052</td>\n",
       "      <td>141354</td>\n",
       "      <td>176437</td>\n",
       "      <td>-35083.0</td>\n",
       "    </tr>\n",
       "    <tr>\n",
       "      <th>34</th>\n",
       "      <td>2053</td>\n",
       "      <td>138513</td>\n",
       "      <td>219050</td>\n",
       "      <td>-80537.0</td>\n",
       "    </tr>\n",
       "  </tbody>\n",
       "</table>\n",
       "</div>"
      ],
      "text/plain": [
       "    Años Ingresos Total_gastos  Balance\n",
       "0   2019    40422        39928    494.0\n",
       "1   2020    42294        44379  -2085.0\n",
       "2   2021    43649        42146   1503.0\n",
       "3   2022    44917        45866   -949.0\n",
       "4   2023    48053        46117   1936.0\n",
       "5   2024    49316        45705   3611.0\n",
       "6   2025    49704        46740   2964.0\n",
       "7   2026    46944        49465  -2521.0\n",
       "8   2027    50894        50223    671.0\n",
       "9   2028    52348        51854    494.0\n",
       "10  2029    55979        54005   1974.0\n",
       "11  2030    57627        58059   -432.0\n",
       "12  2031    56953        61967  -5014.0\n",
       "13  2032    62627        66103  -3476.0\n",
       "14  2033    63324        80860 -17536.0\n",
       "15  2034    63979        69033  -5054.0\n",
       "16  2035    64781        73210  -8429.0\n",
       "17  2036    66081        78237 -12156.0\n",
       "18  2037    66135        77363 -11228.0\n",
       "19  2038    67336        79273 -11937.0\n",
       "20  2039    71276        85750 -14474.0\n",
       "21  2040    71980        91579 -19599.0\n",
       "22  2041    78164        93861 -15697.0\n",
       "23  2042    85143       101457 -16314.0\n",
       "24  2043    86999       121037 -34038.0\n",
       "25  2044    95146       118658 -23512.0\n",
       "26  2045    98338       129346 -31008.0\n",
       "27  2046   103861       131242 -27381.0\n",
       "28  2047   115540       147091 -31551.0\n",
       "29  2048   121673       174805 -53132.0\n",
       "30  2049   138648       181011 -42363.0\n",
       "31  2050   132643       192898 -60255.0\n",
       "32  2051   134433       201739 -67306.0\n",
       "33  2052   141354       176437 -35083.0\n",
       "34  2053   138513       219050 -80537.0"
      ]
     },
     "execution_count": 388,
     "metadata": {},
     "output_type": "execute_result"
    }
   ],
   "source": [
    "s1 = pd.Series(x_new_1, name='Ingresos')\n",
    "s2 = pd.Series(x_new_2, name='Total_gastos')\n",
    "s3 = pd.Series(y_new, name='Balance')\n",
    "s4 = pd.Series(np.arange(2019, 2054, 1), name=\"Años\", dtype=\"int\")\n",
    "df_plotly = pd.concat([s4,s1,s2,s3], axis=1)\n",
    "df_plotly"
   ]
  },
  {
   "cell_type": "markdown",
   "metadata": {},
   "source": [
    "## Visualización de el Balance del IDAAN hasta 2050"
   ]
  },
  {
   "cell_type": "code",
   "execution_count": 391,
   "metadata": {
    "ExecuteTime": {
     "end_time": "2019-09-29T11:01:06.730575Z",
     "start_time": "2019-09-29T11:01:06.601954Z"
    }
   },
   "outputs": [
    {
     "data": {
      "application/vnd.plotly.v1+json": {
       "config": {
        "plotlyServerURL": "https://plot.ly"
       },
       "data": [
        {
         "marker": {
          "color": "rgb(55, 83, 109)"
         },
         "type": "bar",
         "x": [
          2019,
          2020,
          2021,
          2022,
          2023,
          2024,
          2025,
          2026,
          2027,
          2028,
          2029,
          2030,
          2031,
          2032,
          2033,
          2034,
          2035,
          2036,
          2037,
          2038,
          2039,
          2040,
          2041,
          2042,
          2043,
          2044,
          2045,
          2046,
          2047,
          2048,
          2049,
          2050,
          2051,
          2052,
          2053
         ],
         "y": [
          493.9999999999802,
          -2085.000000000021,
          1502.9999999999798,
          -949.0000000000211,
          1935.9999999999789,
          3610.9999999999864,
          2963.999999999986,
          -2521.000000000022,
          670.9999999999852,
          493.9999999999848,
          1973.9999999999843,
          -432.00000000001654,
          -5014.000000000017,
          -3476.000000000011,
          -17536.000000000015,
          -5054.000000000012,
          -8429.000000000013,
          -12156.000000000015,
          -11228.000000000013,
          -11937.000000000015,
          -14474.000000000015,
          -19599.00000000002,
          -15697.000000000002,
          -16314.000000000004,
          -34038.000000000015,
          -23512.000000000007,
          -31007.999999999996,
          -27380.999999999996,
          -31551,
          -53131.999999999985,
          -42363,
          -60255,
          -67306,
          -35082.999999999985,
          -80537
         ]
        }
       ],
       "layout": {
        "barmode": "group",
        "template": {
         "data": {
          "bar": [
           {
            "error_x": {
             "color": "#2a3f5f"
            },
            "error_y": {
             "color": "#2a3f5f"
            },
            "marker": {
             "line": {
              "color": "#E5ECF6",
              "width": 0.5
             }
            },
            "type": "bar"
           }
          ],
          "barpolar": [
           {
            "marker": {
             "line": {
              "color": "#E5ECF6",
              "width": 0.5
             }
            },
            "type": "barpolar"
           }
          ],
          "carpet": [
           {
            "aaxis": {
             "endlinecolor": "#2a3f5f",
             "gridcolor": "white",
             "linecolor": "white",
             "minorgridcolor": "white",
             "startlinecolor": "#2a3f5f"
            },
            "baxis": {
             "endlinecolor": "#2a3f5f",
             "gridcolor": "white",
             "linecolor": "white",
             "minorgridcolor": "white",
             "startlinecolor": "#2a3f5f"
            },
            "type": "carpet"
           }
          ],
          "choropleth": [
           {
            "colorbar": {
             "outlinewidth": 0,
             "ticks": ""
            },
            "type": "choropleth"
           }
          ],
          "contour": [
           {
            "colorbar": {
             "outlinewidth": 0,
             "ticks": ""
            },
            "colorscale": [
             [
              0,
              "#0d0887"
             ],
             [
              0.1111111111111111,
              "#46039f"
             ],
             [
              0.2222222222222222,
              "#7201a8"
             ],
             [
              0.3333333333333333,
              "#9c179e"
             ],
             [
              0.4444444444444444,
              "#bd3786"
             ],
             [
              0.5555555555555556,
              "#d8576b"
             ],
             [
              0.6666666666666666,
              "#ed7953"
             ],
             [
              0.7777777777777778,
              "#fb9f3a"
             ],
             [
              0.8888888888888888,
              "#fdca26"
             ],
             [
              1,
              "#f0f921"
             ]
            ],
            "type": "contour"
           }
          ],
          "contourcarpet": [
           {
            "colorbar": {
             "outlinewidth": 0,
             "ticks": ""
            },
            "type": "contourcarpet"
           }
          ],
          "heatmap": [
           {
            "colorbar": {
             "outlinewidth": 0,
             "ticks": ""
            },
            "colorscale": [
             [
              0,
              "#0d0887"
             ],
             [
              0.1111111111111111,
              "#46039f"
             ],
             [
              0.2222222222222222,
              "#7201a8"
             ],
             [
              0.3333333333333333,
              "#9c179e"
             ],
             [
              0.4444444444444444,
              "#bd3786"
             ],
             [
              0.5555555555555556,
              "#d8576b"
             ],
             [
              0.6666666666666666,
              "#ed7953"
             ],
             [
              0.7777777777777778,
              "#fb9f3a"
             ],
             [
              0.8888888888888888,
              "#fdca26"
             ],
             [
              1,
              "#f0f921"
             ]
            ],
            "type": "heatmap"
           }
          ],
          "heatmapgl": [
           {
            "colorbar": {
             "outlinewidth": 0,
             "ticks": ""
            },
            "colorscale": [
             [
              0,
              "#0d0887"
             ],
             [
              0.1111111111111111,
              "#46039f"
             ],
             [
              0.2222222222222222,
              "#7201a8"
             ],
             [
              0.3333333333333333,
              "#9c179e"
             ],
             [
              0.4444444444444444,
              "#bd3786"
             ],
             [
              0.5555555555555556,
              "#d8576b"
             ],
             [
              0.6666666666666666,
              "#ed7953"
             ],
             [
              0.7777777777777778,
              "#fb9f3a"
             ],
             [
              0.8888888888888888,
              "#fdca26"
             ],
             [
              1,
              "#f0f921"
             ]
            ],
            "type": "heatmapgl"
           }
          ],
          "histogram": [
           {
            "marker": {
             "colorbar": {
              "outlinewidth": 0,
              "ticks": ""
             }
            },
            "type": "histogram"
           }
          ],
          "histogram2d": [
           {
            "colorbar": {
             "outlinewidth": 0,
             "ticks": ""
            },
            "colorscale": [
             [
              0,
              "#0d0887"
             ],
             [
              0.1111111111111111,
              "#46039f"
             ],
             [
              0.2222222222222222,
              "#7201a8"
             ],
             [
              0.3333333333333333,
              "#9c179e"
             ],
             [
              0.4444444444444444,
              "#bd3786"
             ],
             [
              0.5555555555555556,
              "#d8576b"
             ],
             [
              0.6666666666666666,
              "#ed7953"
             ],
             [
              0.7777777777777778,
              "#fb9f3a"
             ],
             [
              0.8888888888888888,
              "#fdca26"
             ],
             [
              1,
              "#f0f921"
             ]
            ],
            "type": "histogram2d"
           }
          ],
          "histogram2dcontour": [
           {
            "colorbar": {
             "outlinewidth": 0,
             "ticks": ""
            },
            "colorscale": [
             [
              0,
              "#0d0887"
             ],
             [
              0.1111111111111111,
              "#46039f"
             ],
             [
              0.2222222222222222,
              "#7201a8"
             ],
             [
              0.3333333333333333,
              "#9c179e"
             ],
             [
              0.4444444444444444,
              "#bd3786"
             ],
             [
              0.5555555555555556,
              "#d8576b"
             ],
             [
              0.6666666666666666,
              "#ed7953"
             ],
             [
              0.7777777777777778,
              "#fb9f3a"
             ],
             [
              0.8888888888888888,
              "#fdca26"
             ],
             [
              1,
              "#f0f921"
             ]
            ],
            "type": "histogram2dcontour"
           }
          ],
          "mesh3d": [
           {
            "colorbar": {
             "outlinewidth": 0,
             "ticks": ""
            },
            "type": "mesh3d"
           }
          ],
          "parcoords": [
           {
            "line": {
             "colorbar": {
              "outlinewidth": 0,
              "ticks": ""
             }
            },
            "type": "parcoords"
           }
          ],
          "scatter": [
           {
            "marker": {
             "colorbar": {
              "outlinewidth": 0,
              "ticks": ""
             }
            },
            "type": "scatter"
           }
          ],
          "scatter3d": [
           {
            "line": {
             "colorbar": {
              "outlinewidth": 0,
              "ticks": ""
             }
            },
            "marker": {
             "colorbar": {
              "outlinewidth": 0,
              "ticks": ""
             }
            },
            "type": "scatter3d"
           }
          ],
          "scattercarpet": [
           {
            "marker": {
             "colorbar": {
              "outlinewidth": 0,
              "ticks": ""
             }
            },
            "type": "scattercarpet"
           }
          ],
          "scattergeo": [
           {
            "marker": {
             "colorbar": {
              "outlinewidth": 0,
              "ticks": ""
             }
            },
            "type": "scattergeo"
           }
          ],
          "scattergl": [
           {
            "marker": {
             "colorbar": {
              "outlinewidth": 0,
              "ticks": ""
             }
            },
            "type": "scattergl"
           }
          ],
          "scattermapbox": [
           {
            "marker": {
             "colorbar": {
              "outlinewidth": 0,
              "ticks": ""
             }
            },
            "type": "scattermapbox"
           }
          ],
          "scatterpolar": [
           {
            "marker": {
             "colorbar": {
              "outlinewidth": 0,
              "ticks": ""
             }
            },
            "type": "scatterpolar"
           }
          ],
          "scatterpolargl": [
           {
            "marker": {
             "colorbar": {
              "outlinewidth": 0,
              "ticks": ""
             }
            },
            "type": "scatterpolargl"
           }
          ],
          "scatterternary": [
           {
            "marker": {
             "colorbar": {
              "outlinewidth": 0,
              "ticks": ""
             }
            },
            "type": "scatterternary"
           }
          ],
          "surface": [
           {
            "colorbar": {
             "outlinewidth": 0,
             "ticks": ""
            },
            "colorscale": [
             [
              0,
              "#0d0887"
             ],
             [
              0.1111111111111111,
              "#46039f"
             ],
             [
              0.2222222222222222,
              "#7201a8"
             ],
             [
              0.3333333333333333,
              "#9c179e"
             ],
             [
              0.4444444444444444,
              "#bd3786"
             ],
             [
              0.5555555555555556,
              "#d8576b"
             ],
             [
              0.6666666666666666,
              "#ed7953"
             ],
             [
              0.7777777777777778,
              "#fb9f3a"
             ],
             [
              0.8888888888888888,
              "#fdca26"
             ],
             [
              1,
              "#f0f921"
             ]
            ],
            "type": "surface"
           }
          ],
          "table": [
           {
            "cells": {
             "fill": {
              "color": "#EBF0F8"
             },
             "line": {
              "color": "white"
             }
            },
            "header": {
             "fill": {
              "color": "#C8D4E3"
             },
             "line": {
              "color": "white"
             }
            },
            "type": "table"
           }
          ]
         },
         "layout": {
          "annotationdefaults": {
           "arrowcolor": "#2a3f5f",
           "arrowhead": 0,
           "arrowwidth": 1
          },
          "colorscale": {
           "diverging": [
            [
             0,
             "#8e0152"
            ],
            [
             0.1,
             "#c51b7d"
            ],
            [
             0.2,
             "#de77ae"
            ],
            [
             0.3,
             "#f1b6da"
            ],
            [
             0.4,
             "#fde0ef"
            ],
            [
             0.5,
             "#f7f7f7"
            ],
            [
             0.6,
             "#e6f5d0"
            ],
            [
             0.7,
             "#b8e186"
            ],
            [
             0.8,
             "#7fbc41"
            ],
            [
             0.9,
             "#4d9221"
            ],
            [
             1,
             "#276419"
            ]
           ],
           "sequential": [
            [
             0,
             "#0d0887"
            ],
            [
             0.1111111111111111,
             "#46039f"
            ],
            [
             0.2222222222222222,
             "#7201a8"
            ],
            [
             0.3333333333333333,
             "#9c179e"
            ],
            [
             0.4444444444444444,
             "#bd3786"
            ],
            [
             0.5555555555555556,
             "#d8576b"
            ],
            [
             0.6666666666666666,
             "#ed7953"
            ],
            [
             0.7777777777777778,
             "#fb9f3a"
            ],
            [
             0.8888888888888888,
             "#fdca26"
            ],
            [
             1,
             "#f0f921"
            ]
           ],
           "sequentialminus": [
            [
             0,
             "#0d0887"
            ],
            [
             0.1111111111111111,
             "#46039f"
            ],
            [
             0.2222222222222222,
             "#7201a8"
            ],
            [
             0.3333333333333333,
             "#9c179e"
            ],
            [
             0.4444444444444444,
             "#bd3786"
            ],
            [
             0.5555555555555556,
             "#d8576b"
            ],
            [
             0.6666666666666666,
             "#ed7953"
            ],
            [
             0.7777777777777778,
             "#fb9f3a"
            ],
            [
             0.8888888888888888,
             "#fdca26"
            ],
            [
             1,
             "#f0f921"
            ]
           ]
          },
          "colorway": [
           "#636efa",
           "#EF553B",
           "#00cc96",
           "#ab63fa",
           "#FFA15A",
           "#19d3f3",
           "#FF6692",
           "#B6E880",
           "#FF97FF",
           "#FECB52"
          ],
          "font": {
           "color": "#2a3f5f"
          },
          "geo": {
           "bgcolor": "white",
           "lakecolor": "white",
           "landcolor": "#E5ECF6",
           "showlakes": true,
           "showland": true,
           "subunitcolor": "white"
          },
          "hoverlabel": {
           "align": "left"
          },
          "hovermode": "closest",
          "mapbox": {
           "style": "light"
          },
          "paper_bgcolor": "white",
          "plot_bgcolor": "#E5ECF6",
          "polar": {
           "angularaxis": {
            "gridcolor": "white",
            "linecolor": "white",
            "ticks": ""
           },
           "bgcolor": "#E5ECF6",
           "radialaxis": {
            "gridcolor": "white",
            "linecolor": "white",
            "ticks": ""
           }
          },
          "scene": {
           "xaxis": {
            "backgroundcolor": "#E5ECF6",
            "gridcolor": "white",
            "gridwidth": 2,
            "linecolor": "white",
            "showbackground": true,
            "ticks": "",
            "zerolinecolor": "white"
           },
           "yaxis": {
            "backgroundcolor": "#E5ECF6",
            "gridcolor": "white",
            "gridwidth": 2,
            "linecolor": "white",
            "showbackground": true,
            "ticks": "",
            "zerolinecolor": "white"
           },
           "zaxis": {
            "backgroundcolor": "#E5ECF6",
            "gridcolor": "white",
            "gridwidth": 2,
            "linecolor": "white",
            "showbackground": true,
            "ticks": "",
            "zerolinecolor": "white"
           }
          },
          "shapedefaults": {
           "line": {
            "color": "#2a3f5f"
           }
          },
          "ternary": {
           "aaxis": {
            "gridcolor": "white",
            "linecolor": "white",
            "ticks": ""
           },
           "baxis": {
            "gridcolor": "white",
            "linecolor": "white",
            "ticks": ""
           },
           "bgcolor": "#E5ECF6",
           "caxis": {
            "gridcolor": "white",
            "linecolor": "white",
            "ticks": ""
           }
          },
          "title": {
           "x": 0.05
          },
          "xaxis": {
           "automargin": true,
           "gridcolor": "white",
           "linecolor": "white",
           "ticks": "",
           "zerolinecolor": "white",
           "zerolinewidth": 2
          },
          "yaxis": {
           "automargin": true,
           "gridcolor": "white",
           "linecolor": "white",
           "ticks": "",
           "zerolinecolor": "white",
           "zerolinewidth": 2
          }
         }
        },
        "title": {
         "text": "Visualizacion de Balance de Gastos del IDAAN"
        },
        "xaxis": {
         "tickfont": {
          "size": 14
         }
        },
        "yaxis": {
         "tickfont": {
          "size": 14
         },
         "title": {
          "font": {
           "size": 16
          },
          "text": "Dólares"
         }
        }
       }
      },
      "text/html": [
       "<div>\n",
       "        \n",
       "        \n",
       "            <div id=\"23bc9483-7bc5-4ed6-903e-935b3fa2b15f\" class=\"plotly-graph-div\" style=\"height:525px; width:100%;\"></div>\n",
       "            <script type=\"text/javascript\">\n",
       "                require([\"plotly\"], function(Plotly) {\n",
       "                    window.PLOTLYENV=window.PLOTLYENV || {};\n",
       "                    \n",
       "                if (document.getElementById(\"23bc9483-7bc5-4ed6-903e-935b3fa2b15f\")) {\n",
       "                    Plotly.newPlot(\n",
       "                        '23bc9483-7bc5-4ed6-903e-935b3fa2b15f',\n",
       "                        [{\"marker\": {\"color\": \"rgb(55, 83, 109)\"}, \"type\": \"bar\", \"x\": [2019, 2020, 2021, 2022, 2023, 2024, 2025, 2026, 2027, 2028, 2029, 2030, 2031, 2032, 2033, 2034, 2035, 2036, 2037, 2038, 2039, 2040, 2041, 2042, 2043, 2044, 2045, 2046, 2047, 2048, 2049, 2050, 2051, 2052, 2053], \"y\": [493.9999999999802, -2085.000000000021, 1502.9999999999798, -949.0000000000211, 1935.9999999999789, 3610.9999999999864, 2963.999999999986, -2521.000000000022, 670.9999999999852, 493.9999999999848, 1973.9999999999843, -432.00000000001654, -5014.000000000017, -3476.000000000011, -17536.000000000015, -5054.000000000012, -8429.000000000013, -12156.000000000015, -11228.000000000013, -11937.000000000015, -14474.000000000015, -19599.00000000002, -15697.000000000002, -16314.000000000004, -34038.000000000015, -23512.000000000007, -31007.999999999996, -27380.999999999996, -31551.0, -53131.999999999985, -42363.0, -60255.0, -67306.0, -35082.999999999985, -80537.0]}],\n",
       "                        {\"barmode\": \"group\", \"template\": {\"data\": {\"bar\": [{\"error_x\": {\"color\": \"#2a3f5f\"}, \"error_y\": {\"color\": \"#2a3f5f\"}, \"marker\": {\"line\": {\"color\": \"#E5ECF6\", \"width\": 0.5}}, \"type\": \"bar\"}], \"barpolar\": [{\"marker\": {\"line\": {\"color\": \"#E5ECF6\", \"width\": 0.5}}, \"type\": \"barpolar\"}], \"carpet\": [{\"aaxis\": {\"endlinecolor\": \"#2a3f5f\", \"gridcolor\": \"white\", \"linecolor\": \"white\", \"minorgridcolor\": \"white\", \"startlinecolor\": \"#2a3f5f\"}, \"baxis\": {\"endlinecolor\": \"#2a3f5f\", \"gridcolor\": \"white\", \"linecolor\": \"white\", \"minorgridcolor\": \"white\", \"startlinecolor\": \"#2a3f5f\"}, \"type\": \"carpet\"}], \"choropleth\": [{\"colorbar\": {\"outlinewidth\": 0, \"ticks\": \"\"}, \"type\": \"choropleth\"}], \"contour\": [{\"colorbar\": {\"outlinewidth\": 0, \"ticks\": \"\"}, \"colorscale\": [[0.0, \"#0d0887\"], [0.1111111111111111, \"#46039f\"], [0.2222222222222222, \"#7201a8\"], [0.3333333333333333, \"#9c179e\"], [0.4444444444444444, \"#bd3786\"], [0.5555555555555556, \"#d8576b\"], [0.6666666666666666, \"#ed7953\"], [0.7777777777777778, \"#fb9f3a\"], [0.8888888888888888, \"#fdca26\"], [1.0, \"#f0f921\"]], \"type\": \"contour\"}], \"contourcarpet\": [{\"colorbar\": {\"outlinewidth\": 0, \"ticks\": \"\"}, \"type\": \"contourcarpet\"}], \"heatmap\": [{\"colorbar\": {\"outlinewidth\": 0, \"ticks\": \"\"}, \"colorscale\": [[0.0, \"#0d0887\"], [0.1111111111111111, \"#46039f\"], [0.2222222222222222, \"#7201a8\"], [0.3333333333333333, \"#9c179e\"], [0.4444444444444444, \"#bd3786\"], [0.5555555555555556, \"#d8576b\"], [0.6666666666666666, \"#ed7953\"], [0.7777777777777778, \"#fb9f3a\"], [0.8888888888888888, \"#fdca26\"], [1.0, \"#f0f921\"]], \"type\": \"heatmap\"}], \"heatmapgl\": [{\"colorbar\": {\"outlinewidth\": 0, \"ticks\": \"\"}, \"colorscale\": [[0.0, \"#0d0887\"], [0.1111111111111111, \"#46039f\"], [0.2222222222222222, \"#7201a8\"], [0.3333333333333333, \"#9c179e\"], [0.4444444444444444, \"#bd3786\"], [0.5555555555555556, \"#d8576b\"], [0.6666666666666666, \"#ed7953\"], [0.7777777777777778, \"#fb9f3a\"], [0.8888888888888888, \"#fdca26\"], [1.0, \"#f0f921\"]], \"type\": \"heatmapgl\"}], \"histogram\": [{\"marker\": {\"colorbar\": {\"outlinewidth\": 0, \"ticks\": \"\"}}, \"type\": \"histogram\"}], \"histogram2d\": [{\"colorbar\": {\"outlinewidth\": 0, \"ticks\": \"\"}, \"colorscale\": [[0.0, \"#0d0887\"], [0.1111111111111111, \"#46039f\"], [0.2222222222222222, \"#7201a8\"], [0.3333333333333333, \"#9c179e\"], [0.4444444444444444, \"#bd3786\"], [0.5555555555555556, \"#d8576b\"], [0.6666666666666666, \"#ed7953\"], [0.7777777777777778, \"#fb9f3a\"], [0.8888888888888888, \"#fdca26\"], [1.0, \"#f0f921\"]], \"type\": \"histogram2d\"}], \"histogram2dcontour\": [{\"colorbar\": {\"outlinewidth\": 0, \"ticks\": \"\"}, \"colorscale\": [[0.0, \"#0d0887\"], [0.1111111111111111, \"#46039f\"], [0.2222222222222222, \"#7201a8\"], [0.3333333333333333, \"#9c179e\"], [0.4444444444444444, \"#bd3786\"], [0.5555555555555556, \"#d8576b\"], [0.6666666666666666, \"#ed7953\"], [0.7777777777777778, \"#fb9f3a\"], [0.8888888888888888, \"#fdca26\"], [1.0, \"#f0f921\"]], \"type\": \"histogram2dcontour\"}], \"mesh3d\": [{\"colorbar\": {\"outlinewidth\": 0, \"ticks\": \"\"}, \"type\": \"mesh3d\"}], \"parcoords\": [{\"line\": {\"colorbar\": {\"outlinewidth\": 0, \"ticks\": \"\"}}, \"type\": \"parcoords\"}], \"scatter\": [{\"marker\": {\"colorbar\": {\"outlinewidth\": 0, \"ticks\": \"\"}}, \"type\": \"scatter\"}], \"scatter3d\": [{\"line\": {\"colorbar\": {\"outlinewidth\": 0, \"ticks\": \"\"}}, \"marker\": {\"colorbar\": {\"outlinewidth\": 0, \"ticks\": \"\"}}, \"type\": \"scatter3d\"}], \"scattercarpet\": [{\"marker\": {\"colorbar\": {\"outlinewidth\": 0, \"ticks\": \"\"}}, \"type\": \"scattercarpet\"}], \"scattergeo\": [{\"marker\": {\"colorbar\": {\"outlinewidth\": 0, \"ticks\": \"\"}}, \"type\": \"scattergeo\"}], \"scattergl\": [{\"marker\": {\"colorbar\": {\"outlinewidth\": 0, \"ticks\": \"\"}}, \"type\": \"scattergl\"}], \"scattermapbox\": [{\"marker\": {\"colorbar\": {\"outlinewidth\": 0, \"ticks\": \"\"}}, \"type\": \"scattermapbox\"}], \"scatterpolar\": [{\"marker\": {\"colorbar\": {\"outlinewidth\": 0, \"ticks\": \"\"}}, \"type\": \"scatterpolar\"}], \"scatterpolargl\": [{\"marker\": {\"colorbar\": {\"outlinewidth\": 0, \"ticks\": \"\"}}, \"type\": \"scatterpolargl\"}], \"scatterternary\": [{\"marker\": {\"colorbar\": {\"outlinewidth\": 0, \"ticks\": \"\"}}, \"type\": \"scatterternary\"}], \"surface\": [{\"colorbar\": {\"outlinewidth\": 0, \"ticks\": \"\"}, \"colorscale\": [[0.0, \"#0d0887\"], [0.1111111111111111, \"#46039f\"], [0.2222222222222222, \"#7201a8\"], [0.3333333333333333, \"#9c179e\"], [0.4444444444444444, \"#bd3786\"], [0.5555555555555556, \"#d8576b\"], [0.6666666666666666, \"#ed7953\"], [0.7777777777777778, \"#fb9f3a\"], [0.8888888888888888, \"#fdca26\"], [1.0, \"#f0f921\"]], \"type\": \"surface\"}], \"table\": [{\"cells\": {\"fill\": {\"color\": \"#EBF0F8\"}, \"line\": {\"color\": \"white\"}}, \"header\": {\"fill\": {\"color\": \"#C8D4E3\"}, \"line\": {\"color\": \"white\"}}, \"type\": \"table\"}]}, \"layout\": {\"annotationdefaults\": {\"arrowcolor\": \"#2a3f5f\", \"arrowhead\": 0, \"arrowwidth\": 1}, \"colorscale\": {\"diverging\": [[0, \"#8e0152\"], [0.1, \"#c51b7d\"], [0.2, \"#de77ae\"], [0.3, \"#f1b6da\"], [0.4, \"#fde0ef\"], [0.5, \"#f7f7f7\"], [0.6, \"#e6f5d0\"], [0.7, \"#b8e186\"], [0.8, \"#7fbc41\"], [0.9, \"#4d9221\"], [1, \"#276419\"]], \"sequential\": [[0.0, \"#0d0887\"], [0.1111111111111111, \"#46039f\"], [0.2222222222222222, \"#7201a8\"], [0.3333333333333333, \"#9c179e\"], [0.4444444444444444, \"#bd3786\"], [0.5555555555555556, \"#d8576b\"], [0.6666666666666666, \"#ed7953\"], [0.7777777777777778, \"#fb9f3a\"], [0.8888888888888888, \"#fdca26\"], [1.0, \"#f0f921\"]], \"sequentialminus\": [[0.0, \"#0d0887\"], [0.1111111111111111, \"#46039f\"], [0.2222222222222222, \"#7201a8\"], [0.3333333333333333, \"#9c179e\"], [0.4444444444444444, \"#bd3786\"], [0.5555555555555556, \"#d8576b\"], [0.6666666666666666, \"#ed7953\"], [0.7777777777777778, \"#fb9f3a\"], [0.8888888888888888, \"#fdca26\"], [1.0, \"#f0f921\"]]}, \"colorway\": [\"#636efa\", \"#EF553B\", \"#00cc96\", \"#ab63fa\", \"#FFA15A\", \"#19d3f3\", \"#FF6692\", \"#B6E880\", \"#FF97FF\", \"#FECB52\"], \"font\": {\"color\": \"#2a3f5f\"}, \"geo\": {\"bgcolor\": \"white\", \"lakecolor\": \"white\", \"landcolor\": \"#E5ECF6\", \"showlakes\": true, \"showland\": true, \"subunitcolor\": \"white\"}, \"hoverlabel\": {\"align\": \"left\"}, \"hovermode\": \"closest\", \"mapbox\": {\"style\": \"light\"}, \"paper_bgcolor\": \"white\", \"plot_bgcolor\": \"#E5ECF6\", \"polar\": {\"angularaxis\": {\"gridcolor\": \"white\", \"linecolor\": \"white\", \"ticks\": \"\"}, \"bgcolor\": \"#E5ECF6\", \"radialaxis\": {\"gridcolor\": \"white\", \"linecolor\": \"white\", \"ticks\": \"\"}}, \"scene\": {\"xaxis\": {\"backgroundcolor\": \"#E5ECF6\", \"gridcolor\": \"white\", \"gridwidth\": 2, \"linecolor\": \"white\", \"showbackground\": true, \"ticks\": \"\", \"zerolinecolor\": \"white\"}, \"yaxis\": {\"backgroundcolor\": \"#E5ECF6\", \"gridcolor\": \"white\", \"gridwidth\": 2, \"linecolor\": \"white\", \"showbackground\": true, \"ticks\": \"\", \"zerolinecolor\": \"white\"}, \"zaxis\": {\"backgroundcolor\": \"#E5ECF6\", \"gridcolor\": \"white\", \"gridwidth\": 2, \"linecolor\": \"white\", \"showbackground\": true, \"ticks\": \"\", \"zerolinecolor\": \"white\"}}, \"shapedefaults\": {\"line\": {\"color\": \"#2a3f5f\"}}, \"ternary\": {\"aaxis\": {\"gridcolor\": \"white\", \"linecolor\": \"white\", \"ticks\": \"\"}, \"baxis\": {\"gridcolor\": \"white\", \"linecolor\": \"white\", \"ticks\": \"\"}, \"bgcolor\": \"#E5ECF6\", \"caxis\": {\"gridcolor\": \"white\", \"linecolor\": \"white\", \"ticks\": \"\"}}, \"title\": {\"x\": 0.05}, \"xaxis\": {\"automargin\": true, \"gridcolor\": \"white\", \"linecolor\": \"white\", \"ticks\": \"\", \"zerolinecolor\": \"white\", \"zerolinewidth\": 2}, \"yaxis\": {\"automargin\": true, \"gridcolor\": \"white\", \"linecolor\": \"white\", \"ticks\": \"\", \"zerolinecolor\": \"white\", \"zerolinewidth\": 2}}}, \"title\": {\"text\": \"Visualizacion de Balance de Gastos del IDAAN\"}, \"xaxis\": {\"tickfont\": {\"size\": 14}}, \"yaxis\": {\"tickfont\": {\"size\": 14}, \"title\": {\"font\": {\"size\": 16}, \"text\": \"D\\u00f3lares\"}}},\n",
       "                        {\"responsive\": true}\n",
       "                    ).then(function(){\n",
       "                            \n",
       "var gd = document.getElementById('23bc9483-7bc5-4ed6-903e-935b3fa2b15f');\n",
       "var x = new MutationObserver(function (mutations, observer) {{\n",
       "        var display = window.getComputedStyle(gd).display;\n",
       "        if (!display || display === 'none') {{\n",
       "            console.log([gd, 'removed!']);\n",
       "            Plotly.purge(gd);\n",
       "            observer.disconnect();\n",
       "        }}\n",
       "}});\n",
       "\n",
       "// Listen for the removal of the full notebook cells\n",
       "var notebookContainer = gd.closest('#notebook-container');\n",
       "if (notebookContainer) {{\n",
       "    x.observe(notebookContainer, {childList: true});\n",
       "}}\n",
       "\n",
       "// Listen for the clearing of the current output cell\n",
       "var outputEl = gd.closest('.output');\n",
       "if (outputEl) {{\n",
       "    x.observe(outputEl, {childList: true});\n",
       "}}\n",
       "\n",
       "                        })\n",
       "                };\n",
       "                });\n",
       "            </script>\n",
       "        </div>"
      ]
     },
     "metadata": {},
     "output_type": "display_data"
    }
   ],
   "source": [
    "fig_detalle_total = go.Figure()\n",
    "\n",
    "fig_detalle_total.add_trace(go.Bar(x=df_plotly['Años'], \n",
    "                                   y=df_plotly['Balance'],marker_color='rgb(55, 83, 109)'))\n",
    "\n",
    "fig_detalle_total.update_layout(\n",
    "    title='Visualizacion de Balance de Gastos del IDAAN',\n",
    "    xaxis_tickfont_size=14,\n",
    "    yaxis=dict(\n",
    "        title='Dólares',\n",
    "        titlefont_size=16,\n",
    "        tickfont_size=14,\n",
    "    ),\n",
    "    barmode='group'\n",
    ")\n",
    "\n",
    "fig_detalle_total.show()"
   ]
  },
  {
   "cell_type": "code",
   "execution_count": null,
   "metadata": {},
   "outputs": [],
   "source": []
  }
 ],
 "metadata": {
  "kernelspec": {
   "display_name": "Python 3",
   "language": "python",
   "name": "python3"
  },
  "language_info": {
   "codemirror_mode": {
    "name": "ipython",
    "version": 3
   },
   "file_extension": ".py",
   "mimetype": "text/x-python",
   "name": "python",
   "nbconvert_exporter": "python",
   "pygments_lexer": "ipython3",
   "version": "3.7.3"
  },
  "toc": {
   "base_numbering": 1,
   "nav_menu": {},
   "number_sections": true,
   "sideBar": true,
   "skip_h1_title": false,
   "title_cell": "Table of Contents",
   "title_sidebar": "Contents",
   "toc_cell": false,
   "toc_position": {},
   "toc_section_display": true,
   "toc_window_display": true
  },
  "varInspector": {
   "cols": {
    "lenName": 16,
    "lenType": 16,
    "lenVar": 40
   },
   "kernels_config": {
    "python": {
     "delete_cmd_postfix": "",
     "delete_cmd_prefix": "del ",
     "library": "var_list.py",
     "varRefreshCmd": "print(var_dic_list())"
    },
    "r": {
     "delete_cmd_postfix": ") ",
     "delete_cmd_prefix": "rm(",
     "library": "var_list.r",
     "varRefreshCmd": "cat(var_dic_list()) "
    }
   },
   "types_to_exclude": [
    "module",
    "function",
    "builtin_function_or_method",
    "instance",
    "_Feature"
   ],
   "window_display": false
  }
 },
 "nbformat": 4,
 "nbformat_minor": 2
}
